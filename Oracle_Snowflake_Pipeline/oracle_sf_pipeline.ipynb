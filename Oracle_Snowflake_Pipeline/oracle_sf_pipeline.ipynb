{
 "cells": [
  {
   "cell_type": "code",
   "execution_count": 1,
   "id": "4a04ab63-4786-4b12-b2b3-de2cbef9ca5c",
   "metadata": {},
   "outputs": [],
   "source": [
    "# %pip install cx_Oracle\n",
    "# %pip install pandas\n",
    "# %pip install pyarrow\n",
    "# %pip install snowflake"
   ]
  },
  {
   "cell_type": "code",
   "execution_count": 2,
   "id": "3621e3b2-90c0-4f42-aa04-9df3d412af1f",
   "metadata": {},
   "outputs": [],
   "source": [
    "import configparser\n",
    "config = configparser.ConfigParser()\n",
    "\n",
    "config.read('toad.cfg')\n",
    "username = config['TOAD']['toad_user']\n",
    "password = config['TOAD']['toad_password']"
   ]
  },
  {
   "cell_type": "code",
   "execution_count": 3,
   "id": "282c3763-036b-4ce2-8543-81b808f8a2d3",
   "metadata": {},
   "outputs": [
    {
     "name": "stdout",
     "output_type": "stream",
     "text": [
      "       CLM_ID LOSS_EVNT_NUM       POL_ID               COV_TYP_DESC  \\\n",
      "0  Y3QAP88280  CA0020567521  41CSES18112  Property Damage Liability   \n",
      "1  Y3QAL87951  CA0020560831  53UENOH9019    Bodily Injury Liability   \n",
      "2  Y4QAP74555  PA0020681722  55100268651  Property Damage Liability   \n",
      "3  Y3YAL02691  PA0020499733  55PHE958901              Bodily Injury   \n",
      "4  Y3YMD08097  PA0020563893  55PHG598574              Comprehensive   \n",
      "\n",
      "     LOSS_DT  CLM_TTL_INC_AMT  GLASS_TOW_AMT  \n",
      "0 2024-08-12          4110.20            0.0  \n",
      "1 2024-08-07          5000.00            0.0  \n",
      "2 2024-10-17             0.00            0.0  \n",
      "3 2024-07-06             0.00            0.0  \n",
      "4 2024-08-11           459.99            0.0  \n"
     ]
    }
   ],
   "source": [
    "import cx_Oracle\n",
    "import pandas as pd\n",
    "\n",
    "# Establish the database connection\n",
    "host_name = 'xdhfd17-scan1'\n",
    "service_n = 'CDW_IMDSCVP.thehartford.com'\n",
    "port_num = '1521'\n",
    "\n",
    "dsn_tns = cx_Oracle.makedsn(host_name, port_num, service_name=service_n)\n",
    "connection = cx_Oracle.connect(user=username, password=password, dsn=dsn_tns)\n",
    " \n",
    "try:\n",
    "    # Create a cursor object\n",
    "    cursor = connection.cursor()\n",
    " \n",
    "    # Define the query\n",
    "    query = \"\"\"SELECT CLM_ID, LOSS_EVNT_NUM, POL_ID, COV_TYP_DESC, LOSS_DT, CLM_TTL_INC_AMT,\n",
    "    CASE WHEN COV_TYP_DESC IN (\\'Glass\\', \\'Towing/Labor\\') THEN CLM_TTL_INC_AMT ELSE 0 END AS GLASS_TOW_AMT\n",
    "    FROM DRAGON_PRD.AGL_MASTER_M_MV WHERE LOSS_DT >= \\'01Jul2024\\'\"\"\"\n",
    "    # AGL_MASTER_M_MV\n",
    " \n",
    "    # Execute the query\n",
    "    cursor.execute(query)\n",
    " \n",
    "    # Fetch all the rows\n",
    "    rows = cursor.fetchall()\n",
    "\n",
    "    # Get the column names\n",
    "    col_names = [row for row in cursor.description]\n",
    " \n",
    "    # Convert the result to a pandas DataFrame\n",
    "    df = pd.DataFrame(rows, columns=[name[0] for name in col_names])\n",
    " \n",
    "    # Print the DataFrame\n",
    "    print(df.head())\n",
    " \n",
    "finally:\n",
    "    # Close the cursor and connection\n",
    "    cursor.close()\n",
    "    connection.close()"
   ]
  },
  {
   "cell_type": "code",
   "execution_count": 4,
   "id": "015f2e3c-5207-4e69-b375-3a472511b4cf",
   "metadata": {},
   "outputs": [],
   "source": [
    "# df.to_csv('oracle_claims.csv')"
   ]
  },
  {
   "cell_type": "code",
   "execution_count": 5,
   "id": "a6c4403d-d5e5-4237-8b4e-3af94f17bb0c",
   "metadata": {},
   "outputs": [],
   "source": [
    "cols = df.select_dtypes(include=['datetime64[ns]']).columns\n",
    "for col in cols:\n",
    "    df[col] = pd.to_datetime(df[col]).dt.date"
   ]
  },
  {
   "cell_type": "code",
   "execution_count": 6,
   "id": "e2751266-b6ac-40fc-bde2-d96276f714f7",
   "metadata": {},
   "outputs": [
    {
     "name": "stdout",
     "output_type": "stream",
     "text": [
      "True\n"
     ]
    }
   ],
   "source": [
    "import snowflake.connector\n",
    "from snowflake.connector.pandas_tools import write_pandas\n",
    "from cryptography.hazmat.backends import default_backend\n",
    "from cryptography.hazmat.primitives import serialization\n",
    "\n",
    "snowflake_pass = config['SNOWFLAKE']['secret_passphrase']\n",
    "df.reset_index(drop=True, inplace=True)\n",
    "\n",
    "with open(\"/tech/appl/default/user/pa08042e/rsa_snow.p8\", \"rb\") as key:\n",
    "    private_key= serialization.load_pem_private_key(\n",
    "        key.read(),\n",
    "        password= snowflake_pass.encode(),\n",
    "        backend=default_backend()\n",
    "    )\n",
    "\n",
    "pkb = private_key.private_bytes(\n",
    "    encoding=serialization.Encoding.DER,\n",
    "    format=serialization.PrivateFormat.PKCS8,\n",
    "    encryption_algorithm=serialization.NoEncryption())\n",
    "\n",
    "ctx = snowflake.connector.connect(\n",
    "    user='pa08042',\n",
    "    account='hfsg_prod.us-east-1',\n",
    "    private_key=pkb,\n",
    "    database='user_db',\n",
    "    schema='AD1_PA08042'\n",
    "    )\n",
    "\n",
    "success, nchunks, nrows, _ = write_pandas(ctx, df,'TEST_TABLE', table_type = 'transient', use_logical_type=True, overwrite=True)\n",
    "print(success)"
   ]
  }
 ],
 "metadata": {
  "kernelspec": {
   "display_name": "Python 3 (ipykernel)",
   "language": "python",
   "name": "python3"
  },
  "language_info": {
   "codemirror_mode": {
    "name": "ipython",
    "version": 3
   },
   "file_extension": ".py",
   "mimetype": "text/x-python",
   "name": "python",
   "nbconvert_exporter": "python",
   "pygments_lexer": "ipython3",
   "version": "3.9.12"
  }
 },
 "nbformat": 4,
 "nbformat_minor": 5
}
