{
 "cells": [
  {
   "cell_type": "code",
   "execution_count": 1,
   "id": "50fbf81c-2be3-4abc-9fd5-04286e80af2a",
   "metadata": {},
   "outputs": [],
   "source": [
    "import snowflake.connector\n",
    "import os\n",
    "from cryptography.hazmat.backends import default_backend\n",
    "from cryptography.hazmat.primitives.asymmetric import rsa\n",
    "from cryptography.hazmat.primitives.asymmetric import dsa\n",
    "from cryptography.hazmat.primitives import serialization\n",
    "import pandas as pd\n",
    "import numpy as np\n",
    "import copy"
   ]
  },
  {
   "cell_type": "code",
   "execution_count": 2,
   "id": "648caf18-0096-4c2d-be6f-fb99a4a8e51c",
   "metadata": {},
   "outputs": [
    {
     "data": {
      "text/plain": [
       "(122238, 94)"
      ]
     },
     "execution_count": 2,
     "metadata": {},
     "output_type": "execute_result"
    }
   ],
   "source": [
    "# Snowflake connection - DSC\n",
    "with open('/etc/security/snowflake/' + \"/rsa_plbiap01dy.p8\", \"rb\") as key:\n",
    "    p_key = serialization.load_pem_private_key(\n",
    "        key.read(),\n",
    "        password='snowflake'.encode(),\n",
    "        backend=default_backend())\n",
    "\n",
    "pkb = p_key.private_bytes(\n",
    "    encoding=serialization.Encoding.DER,\n",
    "    format=serialization.PrivateFormat.PKCS8,\n",
    "    encryption_algorithm=serialization.NoEncryption())\n",
    "\n",
    "ctx = snowflake.connector.connect(\n",
    "        user='plbiap01dy',\n",
    "        account='hfsg_prod.us-east-1.privatelink',\n",
    "        private_key=pkb,\n",
    "        warehouse='DSC_PLBI_PRD_MFG_WHS',\n",
    "        role='plbiap01dy_prd_pii_role'\n",
    ")\n",
    "\n",
    "# Snowflake queries\n",
    "query_scoremart = \"\"\"select * FROM DSC_PLDS_DB.APP_AUTOMATA_PRD.PREVAIL_HOME_ULM_QUOTE_AGG_NB_QUALITY where trans_dt between '2022-01-01' and '2024-12-31' and issue_ind = 'Y'\"\"\"\n",
    "\n",
    "# Get data from Snowflake\n",
    "cs = ctx.cursor()\n",
    "try:\n",
    "    cs.execute(query_scoremart)\n",
    "    df = cs.fetch_pandas_all()\n",
    "finally:\n",
    "    cs.close()\n",
    "ctx.close()\n",
    "\n",
    "df.shape"
   ]
  },
  {
   "cell_type": "code",
   "execution_count": 3,
   "id": "7e67f2a2-2e25-4ec1-9c43-bf7f8a6016aa",
   "metadata": {},
   "outputs": [],
   "source": [
    "# calculate relativities\n",
    "all_state_mean_lr_dict = df.groupby('PRIMARYRATINGSTATE').agg(all_state_mean_lr_dict = ('EXPECTED_LOSS_RATIO', 'mean')).to_dict()\n",
    "df[\"all_state_lr_mean\"] = df[\"PRIMARYRATINGSTATE\"].map(all_state_mean_lr_dict['all_state_mean_lr_dict'])\n",
    "df['ULM_eLRR'] = df['EXPECTED_LOSS_RATIO'] / df['all_state_lr_mean']\n",
    "\n",
    "all_state_mean_ol_lr_dict = df.groupby('PRIMARYRATINGSTATE').agg(all_state_mean_ol_lr_dict = ('OL_EXPECTED_LOSS_RATIO', 'mean')).to_dict()\n",
    "df[\"all_state_ol_lr_mean\"] = df[\"PRIMARYRATINGSTATE\"].map(all_state_mean_ol_lr_dict['all_state_mean_ol_lr_dict'])\n",
    "df['ULM_OL_eLRR'] = df['OL_EXPECTED_LOSS_RATIO'] / df['all_state_ol_lr_mean']"
   ]
  },
  {
   "cell_type": "code",
   "execution_count": 4,
   "id": "79e1736f-0caa-40ad-8235-7161977eb506",
   "metadata": {},
   "outputs": [],
   "source": [
    "def summarize_data(dataframe, by_vars, aggdict, writer, outsheet):\n",
    "    \n",
    "    # create deep copy\n",
    "    df_tmp = copy.deepcopy(dataframe)        \n",
    "            \n",
    "    # summarize\n",
    "    table = df_tmp.pivot_table(index = by_vars, aggfunc = aggdict).reset_index()\n",
    "    \n",
    "    # write to excel\n",
    "    table.to_excel(writer, sheet_name=outsheet, index = False)\n",
    "    # writer.save()"
   ]
  },
  {
   "cell_type": "code",
   "execution_count": 5,
   "id": "2d5f6f0f-2d0a-418c-896a-84c26a896a90",
   "metadata": {},
   "outputs": [],
   "source": [
    "# aggregations\n",
    "aggregation_dict = {'QCN': 'count',\n",
    "#           'EXPECTED_LOSS_RATIO': 'mean', \n",
    "#           'OL_EXPECTED_LOSS_RATIO': 'mean', \n",
    "           'ULM_eLRR': 'mean',\n",
    "#           'ULM_OL_eLRR': 'mean',\n",
    "           }"
   ]
  },
  {
   "cell_type": "code",
   "execution_count": 6,
   "id": "db7a3ecf-3e54-4893-a384-c1c7962541e6",
   "metadata": {},
   "outputs": [
    {
     "data": {
      "text/plain": [
       "cv_decile\n",
       "Decile 03    15356\n",
       "Decile 02    14946\n",
       "Decile 01    14865\n",
       "Decile 04    14179\n",
       "Decile 05    13701\n",
       "Decile 06    13207\n",
       "Decile 07    12277\n",
       "Decile 08    10802\n",
       "Decile 09     8075\n",
       "Decile 10     3917\n",
       "NH/NS          913\n",
       "Name: count, dtype: int64"
      ]
     },
     "execution_count": 6,
     "metadata": {},
     "output_type": "execute_result"
    }
   ],
   "source": [
    "# insurance score deciles\n",
    "df.loc[(df['INS_SCR_CD'] ==0)   | (df['INS_SCR_CD'] >= 998), 'cv_decile'] = 'NH/NS'\n",
    "df.loc[(df['INS_SCR_CD'] > 0)   & (df['INS_SCR_CD'] <= 481), 'cv_decile'] = 'Decile 10'\n",
    "df.loc[(df['INS_SCR_CD'] > 481) & (df['INS_SCR_CD'] <= 598), 'cv_decile'] = 'Decile 09'\n",
    "df.loc[(df['INS_SCR_CD'] > 598) & (df['INS_SCR_CD'] <= 673), 'cv_decile'] = 'Decile 08'\n",
    "df.loc[(df['INS_SCR_CD'] > 673) & (df['INS_SCR_CD'] <= 717), 'cv_decile'] = 'Decile 07'\n",
    "df.loc[(df['INS_SCR_CD'] > 717) & (df['INS_SCR_CD'] <= 746), 'cv_decile'] = 'Decile 06'\n",
    "df.loc[(df['INS_SCR_CD'] > 746) & (df['INS_SCR_CD'] <= 768), 'cv_decile'] = 'Decile 05'\n",
    "df.loc[(df['INS_SCR_CD'] > 768) & (df['INS_SCR_CD'] <= 788), 'cv_decile'] = 'Decile 04'\n",
    "df.loc[(df['INS_SCR_CD'] > 788) & (df['INS_SCR_CD'] <= 809), 'cv_decile'] = 'Decile 03'\n",
    "df.loc[(df['INS_SCR_CD'] > 809) & (df['INS_SCR_CD'] <= 833), 'cv_decile'] = 'Decile 02'\n",
    "df.loc[(df['INS_SCR_CD'] > 833) & (df['INS_SCR_CD'] <  998), 'cv_decile'] = 'Decile 01'\n",
    "df['cv_decile'].value_counts()"
   ]
  },
  {
   "cell_type": "code",
   "execution_count": 7,
   "id": "a02bfd0e-be71-4f08-8862-bdaf07e8cd32",
   "metadata": {},
   "outputs": [
    {
     "data": {
      "text/plain": [
       "cv_quintile\n",
       "Quintile 1    29811\n",
       "Quintile 2    29535\n",
       "Quintile 3    26908\n",
       "Quintile 4    23079\n",
       "Quintile 5    11992\n",
       "NH/NS           913\n",
       "Name: count, dtype: int64"
      ]
     },
     "execution_count": 7,
     "metadata": {},
     "output_type": "execute_result"
    }
   ],
   "source": [
    "# insurance score quintiles\n",
    "df.loc[(df['cv_decile'] == \"Decile 01\") | (df['cv_decile'] == \"Decile 02\"), 'cv_quintile'] = 'Quintile 1'\n",
    "df.loc[(df['cv_decile'] == \"Decile 03\") | (df['cv_decile'] == \"Decile 04\"), 'cv_quintile'] = 'Quintile 2'\n",
    "df.loc[(df['cv_decile'] == \"Decile 05\") | (df['cv_decile'] == \"Decile 06\"), 'cv_quintile'] = 'Quintile 3'\n",
    "df.loc[(df['cv_decile'] == \"Decile 07\") | (df['cv_decile'] == \"Decile 08\"), 'cv_quintile'] = 'Quintile 4'\n",
    "df.loc[(df['cv_decile'] == \"Decile 09\") | (df['cv_decile'] == \"Decile 10\"), 'cv_quintile'] = 'Quintile 5'\n",
    "df.loc[(df['cv_decile'] == \"NH/NS\") , 'cv_quintile'] = 'NH/NS'\n",
    "df['cv_quintile'].value_counts()"
   ]
  },
  {
   "cell_type": "code",
   "execution_count": 8,
   "id": "5b53ef50-fce8-4e1b-a051-b003f366dc1e",
   "metadata": {},
   "outputs": [
    {
     "data": {
      "text/plain": [
       "cov_a\n",
       "$300k-$449k    51620\n",
       "<$300k         41849\n",
       "$450k-$649k    22208\n",
       "$650k+          6561\n",
       "Name: count, dtype: int64"
      ]
     },
     "execution_count": 8,
     "metadata": {},
     "output_type": "execute_result"
    }
   ],
   "source": [
    "# coverage A\n",
    "df['cov_a'] = 'no_coverage'\n",
    "df['CV_HIGI_HOMEARD_DWELLING_COV_LMT'] = pd.to_numeric(df['CV_HIGI_HOMEARD_DWELLING_COV_LMT'].replace('None', 0))\n",
    "\n",
    "df.loc[(df['CV_HIGI_HOMEARD_DWELLING_COV_LMT'] < 300000), 'cov_a'] = '<$300k'\n",
    "df.loc[(df['CV_HIGI_HOMEARD_DWELLING_COV_LMT'] >= 300000) & (df['CV_HIGI_HOMEARD_DWELLING_COV_LMT'] < 450000), 'cov_a'] = '$300k-$449k'\n",
    "df.loc[(df['CV_HIGI_HOMEARD_DWELLING_COV_LMT'] >= 450000) & (df['CV_HIGI_HOMEARD_DWELLING_COV_LMT'] < 650000), 'cov_a'] = '$450k-$649k'\n",
    "df.loc[(df['CV_HIGI_HOMEARD_DWELLING_COV_LMT'] >= 650000), 'cov_a'] = '$650k+'\n",
    "\n",
    "df['cov_a'].value_counts()"
   ]
  },
  {
   "cell_type": "code",
   "execution_count": 9,
   "id": "e3ac5b38-ce91-4a96-8256-b1c1d50f9100",
   "metadata": {},
   "outputs": [
    {
     "data": {
      "text/plain": [
       "ttl_bath_cnt\n",
       "2     64087\n",
       "3     30669\n",
       "1     19649\n",
       "4+     7833\n",
       "Name: count, dtype: int64"
      ]
     },
     "execution_count": 9,
     "metadata": {},
     "output_type": "execute_result"
    }
   ],
   "source": [
    "# Total Bath Count\n",
    "df['CV_HIGV_ATM_SA_NBR_BATH_CALC_2'] = pd.to_numeric(df['CV_HIGV_ATM_SA_NBR_BATH_CALC_2'].replace('None', 0))\n",
    "df.loc[(df['CV_HIGV_ATM_SA_NBR_BATH_CALC_2'] == 1), 'ttl_bath_cnt'] = '1'\n",
    "df.loc[(df['CV_HIGV_ATM_SA_NBR_BATH_CALC_2'] == 2), 'ttl_bath_cnt'] = '2'\n",
    "df.loc[(df['CV_HIGV_ATM_SA_NBR_BATH_CALC_2'] == 3), 'ttl_bath_cnt'] = '3'\n",
    "df.loc[(df['CV_HIGV_ATM_SA_NBR_BATH_CALC_2'] >= 4), 'ttl_bath_cnt'] = '4+'\n",
    "df['ttl_bath_cnt'].value_counts()"
   ]
  },
  {
   "cell_type": "code",
   "execution_count": 10,
   "id": "c696569a-8b01-477a-baa6-84730f1bf638",
   "metadata": {},
   "outputs": [
    {
     "data": {
      "text/plain": [
       "roof_age\n",
       "6-10 years         58330\n",
       "5 years or less    35870\n",
       "11-20 years        19185\n",
       "21+ years           8853\n",
       "Name: count, dtype: int64"
      ]
     },
     "execution_count": 10,
     "metadata": {},
     "output_type": "execute_result"
    }
   ],
   "source": [
    "# Roof Age\n",
    "df['PROP_ROOF_AGE'] = pd.to_numeric(df['PROP_ROOF_AGE'].replace('None', 0))\n",
    "df.loc[(df['PROP_ROOF_AGE'] <= 5), 'roof_age'] = '5 years or less'\n",
    "df.loc[(df['PROP_ROOF_AGE'] >= 6) & (df['PROP_ROOF_AGE'] <= 10), 'roof_age'] = '6-10 years'\n",
    "df.loc[(df['PROP_ROOF_AGE'] >= 11) & (df['PROP_ROOF_AGE'] <= 20), 'roof_age'] = '11-20 years'\n",
    "df.loc[(df['PROP_ROOF_AGE'] >= 21), 'roof_age'] = '21+ years'\n",
    "df['roof_age'].value_counts()"
   ]
  },
  {
   "cell_type": "code",
   "execution_count": 11,
   "id": "8ec193d3-83f0-4da9-991d-dc559406a528",
   "metadata": {},
   "outputs": [
    {
     "data": {
      "text/plain": [
       "const_mat\n",
       "a. frame             80408\n",
       "b. masonry/veneer    33178\n",
       "c. masonry            8454\n",
       "e. other               198\n",
       "Name: count, dtype: int64"
      ]
     },
     "execution_count": 11,
     "metadata": {},
     "output_type": "execute_result"
    }
   ],
   "source": [
    "# Construction Material\n",
    "df['const_mat'] = 'e. other'\n",
    "df.loc[(df['CF_HIGI_HOMEARD_RMP30_HOUSE_CODE_CONSTRUCTIN_ARD'] == 'FRAME'), 'const_mat'] = 'a. frame'\n",
    "df.loc[(df['CF_HIGI_HOMEARD_RMP30_HOUSE_CODE_CONSTRUCTIN_ARD'] == 'BRKVEN'), 'const_mat'] = 'b. masonry/veneer'\n",
    "df.loc[(df['CF_HIGI_HOMEARD_RMP30_HOUSE_CODE_CONSTRUCTIN_ARD'] == 'MASON'), 'const_mat'] = 'c. masonry'\n",
    "df['const_mat'].value_counts()"
   ]
  },
  {
   "cell_type": "code",
   "execution_count": 12,
   "id": "d01215f6-0fa2-40d5-ba00-fc368d0b167f",
   "metadata": {},
   "outputs": [
    {
     "data": {
      "text/plain": [
       "dwell_age_grp\n",
       "70+      19711\n",
       "21-30    19105\n",
       "61-70    15606\n",
       "11-20    15372\n",
       "41-50    14411\n",
       "51-60    13525\n",
       "31-40    12951\n",
       "0-10     11552\n",
       "Name: count, dtype: int64"
      ]
     },
     "execution_count": 12,
     "metadata": {},
     "output_type": "execute_result"
    }
   ],
   "source": [
    "# Dwelling Age\n",
    "df['CV_HIGI_HOMEARD_RMP30_DWELLING_AGE_CAP'] = pd.to_numeric(df['CV_HIGI_HOMEARD_RMP30_DWELLING_AGE_CAP'].replace('None', 0))\n",
    "df.loc[(df['CV_HIGI_HOMEARD_RMP30_DWELLING_AGE_CAP'] >=0)  & (df['CV_HIGI_HOMEARD_RMP30_DWELLING_AGE_CAP'] <=10), 'dwell_age_grp'] = '0-10'\n",
    "df.loc[(df['CV_HIGI_HOMEARD_RMP30_DWELLING_AGE_CAP'] >=11)  & (df['CV_HIGI_HOMEARD_RMP30_DWELLING_AGE_CAP'] <=20), 'dwell_age_grp'] = '11-20'\n",
    "df.loc[(df['CV_HIGI_HOMEARD_RMP30_DWELLING_AGE_CAP'] >=21)  & (df['CV_HIGI_HOMEARD_RMP30_DWELLING_AGE_CAP'] <=30), 'dwell_age_grp'] = '21-30'\n",
    "df.loc[(df['CV_HIGI_HOMEARD_RMP30_DWELLING_AGE_CAP'] >=31)  & (df['CV_HIGI_HOMEARD_RMP30_DWELLING_AGE_CAP'] <=40), 'dwell_age_grp'] = '31-40'\n",
    "df.loc[(df['CV_HIGI_HOMEARD_RMP30_DWELLING_AGE_CAP'] >=41)  & (df['CV_HIGI_HOMEARD_RMP30_DWELLING_AGE_CAP'] <=50), 'dwell_age_grp'] = '41-50'\n",
    "df.loc[(df['CV_HIGI_HOMEARD_RMP30_DWELLING_AGE_CAP'] >=51)  & (df['CV_HIGI_HOMEARD_RMP30_DWELLING_AGE_CAP'] <=60), 'dwell_age_grp'] = '51-60'\n",
    "df.loc[(df['CV_HIGI_HOMEARD_RMP30_DWELLING_AGE_CAP'] >=61)  & (df['CV_HIGI_HOMEARD_RMP30_DWELLING_AGE_CAP'] <=70), 'dwell_age_grp'] = '61-70'\n",
    "df.loc[df['CV_HIGI_HOMEARD_RMP30_DWELLING_AGE_CAP']  > 70, 'dwell_age_grp'] = '70+'\n",
    "df['dwell_age_grp'].value_counts()"
   ]
  },
  {
   "cell_type": "code",
   "execution_count": 13,
   "id": "65fcbf70-bd22-433d-a93a-05b2ca3a77ef",
   "metadata": {},
   "outputs": [
    {
     "data": {
      "text/plain": [
       "sq_ft\n",
       "a. 0-1500       50112\n",
       "b. 1501-2000    37379\n",
       "c. 2001-2500    20047\n",
       "e. 2501+        14700\n",
       "Name: count, dtype: int64"
      ]
     },
     "execution_count": 13,
     "metadata": {},
     "output_type": "execute_result"
    }
   ],
   "source": [
    "# Square Foot\n",
    "df['CV_HIGI_HOMEARD_CMB_SQFTGRP2_ARD'] = pd.to_numeric(df['CV_HIGI_HOMEARD_CMB_SQFTGRP2_ARD'].replace('None', 0))\n",
    "df.loc[(df['CV_HIGI_HOMEARD_CMB_SQFTGRP2_ARD'] >= 0) & (df['CV_HIGI_HOMEARD_CMB_SQFTGRP2_ARD'] <= 1500), 'sq_ft'] = 'a. 0-1500'\n",
    "df.loc[(df['CV_HIGI_HOMEARD_CMB_SQFTGRP2_ARD'] >= 1501) & (df['CV_HIGI_HOMEARD_CMB_SQFTGRP2_ARD'] <= 2000), 'sq_ft'] = 'b. 1501-2000'\n",
    "df.loc[(df['CV_HIGI_HOMEARD_CMB_SQFTGRP2_ARD'] >= 2001) & (df['CV_HIGI_HOMEARD_CMB_SQFTGRP2_ARD'] <= 2500), 'sq_ft'] = 'c. 2001-2500'\n",
    "df.loc[(df['CV_HIGI_HOMEARD_CMB_SQFTGRP2_ARD'] >= 2501), 'sq_ft'] = 'e. 2501+'\n",
    "df['sq_ft'].value_counts()"
   ]
  },
  {
   "cell_type": "code",
   "execution_count": 14,
   "id": "95975153-2575-4279-8765-a965a4b13aa2",
   "metadata": {},
   "outputs": [],
   "source": [
    "writer = pd.ExcelWriter('./Q4_Home_Fatima.xlsx', engine = 'xlsxwriter')\n",
    "summarize_data(dataframe = df, by_vars = ['cv_decile', ], aggdict = aggregation_dict, writer = writer, outsheet = 'cv_decile')\n",
    "summarize_data(dataframe = df, by_vars = ['cv_quintile', ], aggdict = aggregation_dict, writer = writer, outsheet = 'cv_quintile')\n",
    "summarize_data(dataframe = df, by_vars = ['ROOF_COND_DERIV_SCR_NUM', ], aggdict = aggregation_dict, writer = writer, outsheet = 'roof_score')\n",
    "summarize_data(dataframe = df, by_vars = ['cov_a', ], aggdict = aggregation_dict, writer = writer, outsheet = 'cov_a')\n",
    "summarize_data(dataframe = df, by_vars = ['ttl_bath_cnt', ], aggdict = aggregation_dict, writer = writer, outsheet = 'ttl_bath_cnt')\n",
    "summarize_data(dataframe = df, by_vars = ['roof_age', ], aggdict = aggregation_dict, writer = writer, outsheet = 'roof_age')\n",
    "summarize_data(dataframe = df, by_vars = ['const_mat', ], aggdict = aggregation_dict, writer = writer, outsheet = 'const_mat')\n",
    "summarize_data(dataframe = df, by_vars = ['dwell_age_grp', ], aggdict = aggregation_dict, writer = writer, outsheet = 'dwell_age_grp')\n",
    "summarize_data(dataframe = df, by_vars = ['sq_ft', ], aggdict = aggregation_dict, writer = writer, outsheet = 'sq_ft')\n",
    "writer.close()"
   ]
  }
 ],
 "metadata": {
  "kernelspec": {
   "display_name": "Python 3 (ipykernel)",
   "language": "python",
   "name": "python3"
  },
  "language_info": {
   "codemirror_mode": {
    "name": "ipython",
    "version": 3
   },
   "file_extension": ".py",
   "mimetype": "text/x-python",
   "name": "python",
   "nbconvert_exporter": "python",
   "pygments_lexer": "ipython3",
   "version": "3.9.12"
  }
 },
 "nbformat": 4,
 "nbformat_minor": 5
}
