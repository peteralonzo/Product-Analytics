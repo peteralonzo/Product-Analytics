{
 "cells": [
  {
   "cell_type": "code",
   "execution_count": 1,
   "id": "060aefe1-17c8-442d-9c1b-861abd151bed",
   "metadata": {},
   "outputs": [],
   "source": [
    "import snowflake.connector\n",
    "import os\n",
    "from cryptography.hazmat.backends import default_backend\n",
    "from cryptography.hazmat.primitives.asymmetric import rsa\n",
    "from cryptography.hazmat.primitives.asymmetric import dsa\n",
    "from cryptography.hazmat.primitives import serialization\n",
    "import pandas as pd\n",
    "import numpy as np\n",
    "import copy"
   ]
  },
  {
   "cell_type": "code",
   "execution_count": 2,
   "id": "7a216be3-e01b-4687-99e9-189852234164",
   "metadata": {},
   "outputs": [
    {
     "data": {
      "text/plain": [
       "(228503, 74)"
      ]
     },
     "execution_count": 2,
     "metadata": {},
     "output_type": "execute_result"
    }
   ],
   "source": [
    "# Snowflake connection - DSC\n",
    "with open('/etc/security/snowflake/' + \"/rsa_plbiap01dy.p8\", \"rb\") as key:\n",
    "    p_key = serialization.load_pem_private_key(\n",
    "        key.read(),\n",
    "        password='snowflake'.encode(),\n",
    "        backend=default_backend())\n",
    "\n",
    "pkb = p_key.private_bytes(\n",
    "    encoding=serialization.Encoding.DER,\n",
    "    format=serialization.PrivateFormat.PKCS8,\n",
    "    encryption_algorithm=serialization.NoEncryption())\n",
    "\n",
    "ctx = snowflake.connector.connect(\n",
    "        user='plbiap01dy',\n",
    "        account='hfsg_prod.us-east-1.privatelink',\n",
    "        private_key=pkb,\n",
    "        warehouse='DSC_PLBI_PRD_MFG_WHS',\n",
    "        role='plbiap01dy_prd_pii_role'\n",
    ")\n",
    "\n",
    "# Snowflake queries\n",
    "query_scoremart = \"\"\"\n",
    "SELECT ulm.*, \n",
    "aq.POL_ID,\n",
    "ap.TERM_LATST_UBI_SCORE,\n",
    "ap.TLMTC_POL_BUCKET_CD\n",
    "FROM DSC_PLDS_DB.APP_AUTOMATA_PRD.PREVAIL_AUTO_ULM_QUOTE_POL_AGG_NB_QUALITY ulm\n",
    "JOIN PRD_PL_DB.APP_DCPA_DM.AUTO_QUOTE_LATST_VW aq\n",
    "USING (QCN)\n",
    "JOIN DSC_PLBI_DB.APP_AUTO_PRD.AUTO_PERSISTENCY_NEWCO ap\n",
    "ON aq.POL_ID = ap.POL_ID\n",
    "WHERE ulm.trans_dt BETWEEN '2022-01-01' AND '2024-09-30' \n",
    "AND issue_ind = 'Y' \n",
    "AND cf_veh_telematic_ind = 'Y'\n",
    "AND ap.POL_EFF_DT <= '2024-09-30'\n",
    "QUALIFY ROW_NUMBER() OVER (PARTITION BY ap.POL_ID ORDER BY ap.POL_EFF_DT DESC) = 1;\n",
    "\"\"\"\n",
    "\n",
    "# Get data from Snowflake\n",
    "cs = ctx.cursor()\n",
    "try:\n",
    "    cs.execute(query_scoremart)\n",
    "    df = cs.fetch_pandas_all()\n",
    "finally:\n",
    "    cs.close()\n",
    "ctx.close()\n",
    "\n",
    "df.shape"
   ]
  },
  {
   "cell_type": "code",
   "execution_count": 3,
   "id": "81dba889-17b6-497d-aebf-0c7d696b9f5f",
   "metadata": {},
   "outputs": [],
   "source": [
    "# calculate relativities\n",
    "all_state_mean_lr_dict = df.groupby('STATE').agg(all_state_mean_lr_dict = ('EXPECTED_LOSS_RATIO', 'mean')).to_dict()\n",
    "df[\"all_state_lr_mean\"] = df[\"STATE\"].map(all_state_mean_lr_dict['all_state_mean_lr_dict'])\n",
    "df['ULM_eLRR'] = df['EXPECTED_LOSS_RATIO'] / df['all_state_lr_mean']\n",
    "\n",
    "all_state_mean_ol_lr_dict = df.groupby('STATE').agg(all_state_mean_ol_lr_dict = ('OL_EXPECTED_LOSS_RATIO', 'mean')).to_dict()\n",
    "df[\"all_state_ol_lr_mean\"] = df[\"STATE\"].map(all_state_mean_ol_lr_dict['all_state_mean_ol_lr_dict'])\n",
    "df['ULM_OL_eLRR'] = df['OL_EXPECTED_LOSS_RATIO'] / df['all_state_ol_lr_mean']"
   ]
  },
  {
   "cell_type": "code",
   "execution_count": 4,
   "id": "3c81b5f9-bb81-414c-9cca-83cb3351fc89",
   "metadata": {},
   "outputs": [],
   "source": [
    "def summarize_data(dataframe, by_vars, aggdict, writer, outsheet):\n",
    "    \n",
    "    # create deep copy\n",
    "    df_tmp = copy.deepcopy(dataframe)        \n",
    "            \n",
    "    # summarize\n",
    "    table = df_tmp.pivot_table(index = by_vars, aggfunc = aggdict).reset_index()\n",
    "    \n",
    "    # write to excel\n",
    "    table.to_excel(writer, sheet_name=outsheet, index = False)\n",
    "    # writer.save()"
   ]
  },
  {
   "cell_type": "code",
   "execution_count": 5,
   "id": "08f5914f-d06a-4da8-890a-efab7f238a18",
   "metadata": {},
   "outputs": [],
   "source": [
    "# aggregations\n",
    "aggregation_dict = {'COMPL_QTE_IND': 'count',\n",
    "           'ULM_eLRR': 'mean',\n",
    "#           'ULM_OL_eLRR': 'mean',\n",
    "           }"
   ]
  },
  {
   "cell_type": "code",
   "execution_count": 6,
   "id": "567d5766-724b-4a40-82bf-088e2daf8e39",
   "metadata": {},
   "outputs": [
    {
     "data": {
      "text/plain": [
       "PNI_AGE_grp\n",
       "60-69    83822\n",
       "70-79    63862\n",
       "50-59    60075\n",
       "80+      19677\n",
       "<50       1067\n",
       "Name: count, dtype: int64"
      ]
     },
     "execution_count": 6,
     "metadata": {},
     "output_type": "execute_result"
    }
   ],
   "source": [
    "# Primary Named Insured age\n",
    "df.loc[df['PNI_AGE'] < 50, 'PNI_AGE_grp'] = '<50'\n",
    "df.loc[(df['PNI_AGE'] >=50) & (df['PNI_AGE'] <60), 'PNI_AGE_grp'] = '50-59'\n",
    "df.loc[(df['PNI_AGE'] >=60) & (df['PNI_AGE'] <70), 'PNI_AGE_grp'] = '60-69'\n",
    "df.loc[(df['PNI_AGE'] >=70) & (df['PNI_AGE'] <80), 'PNI_AGE_grp'] = '70-79'\n",
    "df.loc[df['PNI_AGE'] >=80, 'PNI_AGE_grp'] = '80+'\n",
    "df['PNI_AGE_grp'].value_counts()"
   ]
  },
  {
   "cell_type": "code",
   "execution_count": 7,
   "id": "b2a39366-3403-4d44-8812-412630402624",
   "metadata": {},
   "outputs": [
    {
     "data": {
      "text/plain": [
       "cv_decile\n",
       "Decile 10    43065\n",
       "Decile 09    27946\n",
       "Decile 08    24201\n",
       "Decile 07    22456\n",
       "Decile 06    21107\n",
       "Decile 05    19324\n",
       "Decile 04    18467\n",
       "Decile 03    17921\n",
       "Decile 02    16074\n",
       "Decile 01    13588\n",
       "NH/NS         4354\n",
       "Name: count, dtype: int64"
      ]
     },
     "execution_count": 7,
     "metadata": {},
     "output_type": "execute_result"
    }
   ],
   "source": [
    "# Insurance Score Deciles\n",
    "df.loc[(df['CV_PLCY_CREDITVISION_CW'] ==0)   | (df['CV_PLCY_CREDITVISION_CW'] >= 998), 'cv_decile'] = 'NH/NS'\n",
    "df.loc[(df['CV_PLCY_CREDITVISION_CW'] > 0)   & (df['CV_PLCY_CREDITVISION_CW'] <= 504), 'cv_decile'] = 'Decile 10'\n",
    "df.loc[(df['CV_PLCY_CREDITVISION_CW'] > 504) & (df['CV_PLCY_CREDITVISION_CW'] <= 603), 'cv_decile'] = 'Decile 09'\n",
    "df.loc[(df['CV_PLCY_CREDITVISION_CW'] > 603) & (df['CV_PLCY_CREDITVISION_CW'] <= 670), 'cv_decile'] = 'Decile 08'\n",
    "df.loc[(df['CV_PLCY_CREDITVISION_CW'] > 670) & (df['CV_PLCY_CREDITVISION_CW'] <= 714), 'cv_decile'] = 'Decile 07'\n",
    "df.loc[(df['CV_PLCY_CREDITVISION_CW'] > 714) & (df['CV_PLCY_CREDITVISION_CW'] <= 744), 'cv_decile'] = 'Decile 06'\n",
    "df.loc[(df['CV_PLCY_CREDITVISION_CW'] > 744) & (df['CV_PLCY_CREDITVISION_CW'] <= 766), 'cv_decile'] = 'Decile 05'\n",
    "df.loc[(df['CV_PLCY_CREDITVISION_CW'] > 766) & (df['CV_PLCY_CREDITVISION_CW'] <= 785), 'cv_decile'] = 'Decile 04'\n",
    "df.loc[(df['CV_PLCY_CREDITVISION_CW'] > 785) & (df['CV_PLCY_CREDITVISION_CW'] <= 804), 'cv_decile'] = 'Decile 03'\n",
    "df.loc[(df['CV_PLCY_CREDITVISION_CW'] > 804) & (df['CV_PLCY_CREDITVISION_CW'] <= 825), 'cv_decile'] = 'Decile 02'\n",
    "df.loc[(df['CV_PLCY_CREDITVISION_CW'] > 825) & (df['CV_PLCY_CREDITVISION_CW'] <  998), 'cv_decile'] = 'Decile 01'\n",
    "df['cv_decile'].value_counts()"
   ]
  },
  {
   "cell_type": "code",
   "execution_count": 8,
   "id": "b8a2b27d-c0d9-4c1d-a79f-b149fac0848d",
   "metadata": {},
   "outputs": [
    {
     "data": {
      "text/plain": [
       "ubi_score\n",
       "0-9      159888\n",
       "40-49      9847\n",
       "30-39      9591\n",
       "20-29      9437\n",
       "10-19      8413\n",
       "50-59      6673\n",
       "60-69      6079\n",
       "90+        5987\n",
       "70-79      5536\n",
       "80-89      5409\n",
       "Name: count, dtype: int64"
      ]
     },
     "execution_count": 8,
     "metadata": {},
     "output_type": "execute_result"
    }
   ],
   "source": [
    "# UBI Score\n",
    "df.loc[df['TERM_LATST_UBI_SCORE'] < 10, 'ubi_score'] = '0-9'\n",
    "df.loc[(df['TERM_LATST_UBI_SCORE'] >= 10) & (df['TERM_LATST_UBI_SCORE'] <= 19), 'ubi_score'] = '10-19'\n",
    "df.loc[(df['TERM_LATST_UBI_SCORE'] >= 20) & (df['TERM_LATST_UBI_SCORE'] <= 29), 'ubi_score'] = '20-29'\n",
    "df.loc[(df['TERM_LATST_UBI_SCORE'] >= 30) & (df['TERM_LATST_UBI_SCORE'] <= 39), 'ubi_score'] = '30-39'\n",
    "df.loc[(df['TERM_LATST_UBI_SCORE'] >= 40) & (df['TERM_LATST_UBI_SCORE'] <= 49), 'ubi_score'] = '40-49'\n",
    "df.loc[(df['TERM_LATST_UBI_SCORE'] >= 50) & (df['TERM_LATST_UBI_SCORE'] <= 59), 'ubi_score'] = '50-59'\n",
    "df.loc[(df['TERM_LATST_UBI_SCORE'] >= 60) & (df['TERM_LATST_UBI_SCORE'] <= 69), 'ubi_score'] = '60-69'\n",
    "df.loc[(df['TERM_LATST_UBI_SCORE'] >= 70) & (df['TERM_LATST_UBI_SCORE'] <= 79), 'ubi_score'] = '70-79'\n",
    "df.loc[(df['TERM_LATST_UBI_SCORE'] >= 80) & (df['TERM_LATST_UBI_SCORE'] <= 89), 'ubi_score'] = '80-89'\n",
    "df.loc[df['TERM_LATST_UBI_SCORE'] >= 90, 'ubi_score'] = '90+'\n",
    "df['ubi_score'].value_counts()"
   ]
  },
  {
   "cell_type": "code",
   "execution_count": 9,
   "id": "46feb298-0e1e-41da-aa91-0cc9bdd60c7e",
   "metadata": {},
   "outputs": [
    {
     "data": {
      "text/plain": [
       "tlmtc_bucket_cd\n",
       "Full Participation                     96223\n",
       "Issued with TrueLane but not active    95333\n",
       "Partial Participation                  33975\n",
       "Enrollment Window                       2855\n",
       "Not Active                               117\n",
       "Name: count, dtype: int64"
      ]
     },
     "execution_count": 9,
     "metadata": {},
     "output_type": "execute_result"
    }
   ],
   "source": [
    "# Telematics Bucket Code\n",
    "df['tlmtc_bucket_cd'] = 'Not Active'\n",
    "df.loc[df['TLMTC_POL_BUCKET_CD'].isin(['Full Participation', 'Partial Participation', 'Enrollment Window']), 'tlmtc_bucket_cd'] = df['TLMTC_POL_BUCKET_CD']\n",
    "df.loc[df['TLMTC_POL_BUCKET_CD'] == 'Issued with TrueLane but Never Activated', 'tlmtc_bucket_cd'] = 'Issued with TrueLane but not active'\n",
    "df.loc[df['TLMTC_POL_BUCKET_CD'] == 'Issued with TrueLane, Activated,Valid Score, but Unenrolled', 'tlmtc_bucket_cd'] = 'Issued with TrueLane but not active'\n",
    "df.loc[df['TLMTC_POL_BUCKET_CD'] == 'Issued with TrueLane, Activated,No Score, but Unenrolled', 'tlmtc_bucket_cd'] = 'Issued with TrueLane but not active'\n",
    "df['tlmtc_bucket_cd'].value_counts()"
   ]
  },
  {
   "cell_type": "code",
   "execution_count": 10,
   "id": "f159f990-1ac5-4bd9-8787-606de7e1b3e7",
   "metadata": {},
   "outputs": [],
   "source": [
    "writer = pd.ExcelWriter('./Q3_Auto_Segmentation.xlsx', engine = 'xlsxwriter')\n",
    "summarize_data(dataframe = df, by_vars = ['PNI_AGE_grp', ], aggdict = aggregation_dict, writer = writer, outsheet = 'PNI_AGE_grp')\n",
    "summarize_data(dataframe = df, by_vars = ['cv_decile', ], aggdict = aggregation_dict, writer = writer, outsheet = 'cv_decile')\n",
    "summarize_data(dataframe = df, by_vars = ['ubi_score', ], aggdict = aggregation_dict, writer = writer, outsheet = 'ubi_score')\n",
    "summarize_data(dataframe = df, by_vars = ['tlmtc_bucket_cd', ], aggdict = aggregation_dict, writer = writer, outsheet = 'tlmtc_bucket_cd')\n",
    "writer.close()"
   ]
  }
 ],
 "metadata": {
  "kernelspec": {
   "display_name": "Python 3 (ipykernel)",
   "language": "python",
   "name": "python3"
  },
  "language_info": {
   "codemirror_mode": {
    "name": "ipython",
    "version": 3
   },
   "file_extension": ".py",
   "mimetype": "text/x-python",
   "name": "python",
   "nbconvert_exporter": "python",
   "pygments_lexer": "ipython3",
   "version": "3.9.12"
  }
 },
 "nbformat": 4,
 "nbformat_minor": 5
}
