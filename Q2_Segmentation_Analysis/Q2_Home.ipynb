{
 "cells": [
  {
   "cell_type": "code",
   "execution_count": 1,
   "id": "7842b97b-4a82-4d8a-80df-3d6cb6182565",
   "metadata": {},
   "outputs": [],
   "source": [
    "# pip install xlsxwriter"
   ]
  },
  {
   "cell_type": "code",
   "execution_count": 1,
   "id": "50fbf81c-2be3-4abc-9fd5-04286e80af2a",
   "metadata": {},
   "outputs": [],
   "source": [
    "import snowflake.connector\n",
    "import os\n",
    "from cryptography.hazmat.backends import default_backend\n",
    "from cryptography.hazmat.primitives.asymmetric import rsa\n",
    "from cryptography.hazmat.primitives.asymmetric import dsa\n",
    "from cryptography.hazmat.primitives import serialization\n",
    "import pandas as pd\n",
    "import numpy as np\n",
    "import copy"
   ]
  },
  {
   "cell_type": "code",
   "execution_count": 2,
   "id": "648caf18-0096-4c2d-be6f-fb99a4a8e51c",
   "metadata": {},
   "outputs": [
    {
     "data": {
      "text/plain": [
       "(89400, 94)"
      ]
     },
     "execution_count": 2,
     "metadata": {},
     "output_type": "execute_result"
    }
   ],
   "source": [
    "# Snowflake connection - DSC\n",
    "with open('/etc/security/snowflake/' + \"/rsa_plbiap01dy.p8\", \"rb\") as key:\n",
    "    p_key = serialization.load_pem_private_key(\n",
    "        key.read(),\n",
    "        password='snowflake'.encode(),\n",
    "        backend=default_backend())\n",
    "\n",
    "pkb = p_key.private_bytes(\n",
    "    encoding=serialization.Encoding.DER,\n",
    "    format=serialization.PrivateFormat.PKCS8,\n",
    "    encryption_algorithm=serialization.NoEncryption())\n",
    "\n",
    "ctx = snowflake.connector.connect(\n",
    "        user='plbiap01dy',\n",
    "        account='hfsg_prod.us-east-1.privatelink',\n",
    "        private_key=pkb,\n",
    "        warehouse='DSC_PLBI_PRD_MFG_WHS',\n",
    "        role='plbiap01dy_prd_pii_role'\n",
    ")\n",
    "\n",
    "# Snowflake queries\n",
    "query_scoremart = \"\"\"select * FROM DSC_PLDS_DB.APP_AUTOMATA_PRD.PREVAIL_HOME_ULM_QUOTE_AGG_NB_QUALITY where trans_dt between '2022-01-01' and '2024-06-30' and issue_ind = 'Y'\"\"\"\n",
    "# query_scoremart = \"\"\"select * FROM DSC_PLDS_DB.APP_AUTOMATA_PRD.PREVAIL_HOME_ULM_QUOTE_AGG_NB_QUALITY where trans_dt >= '2022-01-01' and issue_ind = 'Y'\"\"\"\n",
    "\n",
    "# Get data from Snowflake\n",
    "cs = ctx.cursor()\n",
    "try:\n",
    "    cs.execute(query_scoremart)\n",
    "    df = cs.fetch_pandas_all()\n",
    "finally:\n",
    "    cs.close()\n",
    "ctx.close()\n",
    "\n",
    "df.shape"
   ]
  },
  {
   "cell_type": "code",
   "execution_count": 3,
   "id": "7e67f2a2-2e25-4ec1-9c43-bf7f8a6016aa",
   "metadata": {},
   "outputs": [],
   "source": [
    "# calculate relativities\n",
    "all_state_mean_lr_dict = df.groupby('PRIMARYRATINGSTATE').agg(all_state_mean_lr_dict = ('EXPECTED_LOSS_RATIO', 'mean')).to_dict()\n",
    "df[\"all_state_lr_mean\"] = df[\"PRIMARYRATINGSTATE\"].map(all_state_mean_lr_dict['all_state_mean_lr_dict'])\n",
    "df['ULM_eLRR'] = df['EXPECTED_LOSS_RATIO'] / df['all_state_lr_mean']\n",
    "\n",
    "all_state_mean_ol_lr_dict = df.groupby('PRIMARYRATINGSTATE').agg(all_state_mean_ol_lr_dict = ('OL_EXPECTED_LOSS_RATIO', 'mean')).to_dict()\n",
    "df[\"all_state_ol_lr_mean\"] = df[\"PRIMARYRATINGSTATE\"].map(all_state_mean_ol_lr_dict['all_state_mean_ol_lr_dict'])\n",
    "df['ULM_OL_eLRR'] = df['OL_EXPECTED_LOSS_RATIO'] / df['all_state_ol_lr_mean']"
   ]
  },
  {
   "cell_type": "code",
   "execution_count": 4,
   "id": "79e1736f-0caa-40ad-8235-7161977eb506",
   "metadata": {},
   "outputs": [],
   "source": [
    "def summarize_data(dataframe, by_vars, aggdict, writer, outsheet):\n",
    "    \n",
    "    # create deep copy\n",
    "    df_tmp = copy.deepcopy(dataframe)        \n",
    "            \n",
    "    # summarize\n",
    "    table = df_tmp.pivot_table(index = by_vars, aggfunc = aggdict).reset_index()\n",
    "    \n",
    "    # write to excel\n",
    "    table.to_excel(writer, sheet_name=outsheet, index = False)\n",
    "    # writer.save()"
   ]
  },
  {
   "cell_type": "code",
   "execution_count": 5,
   "id": "2d5f6f0f-2d0a-418c-896a-84c26a896a90",
   "metadata": {},
   "outputs": [],
   "source": [
    "# aggregations\n",
    "aggregation_dict = {'QCN': 'count',\n",
    "#           'EXPECTED_LOSS_RATIO': 'mean', \n",
    "#           'OL_EXPECTED_LOSS_RATIO': 'mean', \n",
    "           'ULM_eLRR': 'mean',\n",
    "#           'ULM_OL_eLRR': 'mean',\n",
    "           }"
   ]
  },
  {
   "cell_type": "code",
   "execution_count": 6,
   "id": "db7a3ecf-3e54-4893-a384-c1c7962541e6",
   "metadata": {},
   "outputs": [
    {
     "data": {
      "text/plain": [
       "cv_decile\n",
       "Decile 01    10694\n",
       "Decile 02     9937\n",
       "Decile 05     9523\n",
       "Decile 04     9184\n",
       "Decile 06     9112\n",
       "Decile 03     9049\n",
       "Decile 07     8706\n",
       "Decile 08     8562\n",
       "Decile 09     7985\n",
       "Decile 10     5976\n",
       "NH/NS          672\n",
       "Name: count, dtype: int64"
      ]
     },
     "execution_count": 6,
     "metadata": {},
     "output_type": "execute_result"
    }
   ],
   "source": [
    "# insurance score deciles\n",
    "df.loc[(df['INS_SCR_CD'] ==0)   | (df['INS_SCR_CD'] >= 998), 'cv_decile'] = 'NH/NS'\n",
    "df.loc[(df['INS_SCR_CD'] > 0)   & (df['INS_SCR_CD'] <= 557), 'cv_decile'] = 'Decile 10'\n",
    "df.loc[(df['INS_SCR_CD'] > 557) & (df['INS_SCR_CD'] <= 654), 'cv_decile'] = 'Decile 09'\n",
    "df.loc[(df['INS_SCR_CD'] > 654) & (df['INS_SCR_CD'] <= 705), 'cv_decile'] = 'Decile 08'\n",
    "df.loc[(df['INS_SCR_CD'] > 705) & (df['INS_SCR_CD'] <= 735), 'cv_decile'] = 'Decile 07'\n",
    "df.loc[(df['INS_SCR_CD'] > 735) & (df['INS_SCR_CD'] <= 757), 'cv_decile'] = 'Decile 06'\n",
    "df.loc[(df['INS_SCR_CD'] > 757) & (df['INS_SCR_CD'] <= 776), 'cv_decile'] = 'Decile 05'\n",
    "df.loc[(df['INS_SCR_CD'] > 776) & (df['INS_SCR_CD'] <= 793), 'cv_decile'] = 'Decile 04'\n",
    "df.loc[(df['INS_SCR_CD'] > 793) & (df['INS_SCR_CD'] <= 810), 'cv_decile'] = 'Decile 03'\n",
    "df.loc[(df['INS_SCR_CD'] > 810) & (df['INS_SCR_CD'] <= 832), 'cv_decile'] = 'Decile 02'\n",
    "df.loc[(df['INS_SCR_CD'] > 832) & (df['INS_SCR_CD'] <  998), 'cv_decile'] = 'Decile 01'\n",
    "df['cv_decile'].value_counts()"
   ]
  },
  {
   "cell_type": "code",
   "execution_count": 7,
   "id": "a02bfd0e-be71-4f08-8862-bdaf07e8cd32",
   "metadata": {},
   "outputs": [
    {
     "data": {
      "text/plain": [
       "cv_quintile\n",
       "Quintile 1    20631\n",
       "Quintile 3    18635\n",
       "Quintile 2    18233\n",
       "Quintile 4    17268\n",
       "Quintile 5    13961\n",
       "NH/NS           672\n",
       "Name: count, dtype: int64"
      ]
     },
     "execution_count": 7,
     "metadata": {},
     "output_type": "execute_result"
    }
   ],
   "source": [
    "# insurance score quintiles\n",
    "df.loc[(df['cv_decile'] == \"Decile 01\") | (df['cv_decile'] == \"Decile 02\"), 'cv_quintile'] = 'Quintile 1'\n",
    "df.loc[(df['cv_decile'] == \"Decile 03\") | (df['cv_decile'] == \"Decile 04\"), 'cv_quintile'] = 'Quintile 2'\n",
    "df.loc[(df['cv_decile'] == \"Decile 05\") | (df['cv_decile'] == \"Decile 06\"), 'cv_quintile'] = 'Quintile 3'\n",
    "df.loc[(df['cv_decile'] == \"Decile 07\") | (df['cv_decile'] == \"Decile 08\"), 'cv_quintile'] = 'Quintile 4'\n",
    "df.loc[(df['cv_decile'] == \"Decile 09\") | (df['cv_decile'] == \"Decile 10\"), 'cv_quintile'] = 'Quintile 5'\n",
    "df.loc[(df['cv_decile'] == \"NH/NS\") , 'cv_quintile'] = 'NH/NS'\n",
    "df['cv_quintile'].value_counts()"
   ]
  },
  {
   "cell_type": "code",
   "execution_count": 8,
   "id": "9361de4f-08d0-49d8-8777-dc90d7da35da",
   "metadata": {},
   "outputs": [
    {
     "data": {
      "text/plain": [
       "cov_a_sq_ft\n",
       "<$300k and sqft 0-1500            25079\n",
       "$300k-$449k and sqft 1501-2000    16551\n",
       "$300k-$449k and sqft 0-1500       10401\n",
       "$300k-$449k and sqft 2001-2500     8581\n",
       "<$300k and sqft 1501-2000          7102\n",
       "$450k-$649k and sqft 2501+         5439\n",
       "$450k-$649k and sqft 2001-2500     4983\n",
       "$450k-$649k and sqft 1501-2000     3740\n",
       "$650k+ and sqft 2501+              3250\n",
       "$300k-$449k and sqft 2501+         1832\n",
       "$450k-$649k and sqft 0-1500         968\n",
       "$650k+ and sqft 2001-2500           728\n",
       "<$300k and sqft 2001-2500           436\n",
       "$650k+ and sqft 1501-2000           256\n",
       "$650k+ and sqft 0-1500               43\n",
       "<$300k and sqft 2501+                11\n",
       "Name: count, dtype: int64"
      ]
     },
     "execution_count": 8,
     "metadata": {},
     "output_type": "execute_result"
    }
   ],
   "source": [
    "# coverage A & sq ft\n",
    "df['cov_a_sq_ft'] = 'no_coverage'\n",
    "df['CV_HIGI_HOMEARD_DWELLING_COV_LMT'] = pd.to_numeric(df['CV_HIGI_HOMEARD_DWELLING_COV_LMT'].replace('None', 0))\n",
    "df['CV_HIGI_HOMEARD_CMB_SQFTGRP2_ARD'] = pd.to_numeric(df['CV_HIGI_HOMEARD_CMB_SQFTGRP2_ARD'].replace('None', 0))\n",
    "\n",
    "#Group A\n",
    "df.loc[(df['CV_HIGI_HOMEARD_DWELLING_COV_LMT'] <300000) & (df['CV_HIGI_HOMEARD_CMB_SQFTGRP2_ARD'] >= 0) & (df['CV_HIGI_HOMEARD_CMB_SQFTGRP2_ARD'] <= 1500), 'cov_a_sq_ft'] = '<$300k and sqft 0-1500'\n",
    "df.loc[(df['CV_HIGI_HOMEARD_DWELLING_COV_LMT'] <300000) & (df['CV_HIGI_HOMEARD_CMB_SQFTGRP2_ARD'] >= 1501) & (df['CV_HIGI_HOMEARD_CMB_SQFTGRP2_ARD'] <= 2000), 'cov_a_sq_ft'] = '<$300k and sqft 1501-2000'\n",
    "df.loc[(df['CV_HIGI_HOMEARD_DWELLING_COV_LMT'] <300000) & (df['CV_HIGI_HOMEARD_CMB_SQFTGRP2_ARD'] >= 2001) & (df['CV_HIGI_HOMEARD_CMB_SQFTGRP2_ARD'] <= 2500), 'cov_a_sq_ft'] = '<$300k and sqft 2001-2500'\n",
    "df.loc[(df['CV_HIGI_HOMEARD_DWELLING_COV_LMT'] <300000) & (df['CV_HIGI_HOMEARD_CMB_SQFTGRP2_ARD'] > 2500), 'cov_a_sq_ft'] = '<$300k and sqft 2501+'\n",
    "\n",
    "#Group B\n",
    "df.loc[(df['CV_HIGI_HOMEARD_DWELLING_COV_LMT'] >=300000) & (df['CV_HIGI_HOMEARD_DWELLING_COV_LMT'] <450000) & (df['CV_HIGI_HOMEARD_CMB_SQFTGRP2_ARD'] >= 0) & (df['CV_HIGI_HOMEARD_CMB_SQFTGRP2_ARD'] <= 1500), 'cov_a_sq_ft'] = '$300k-$449k and sqft 0-1500'\n",
    "df.loc[(df['CV_HIGI_HOMEARD_DWELLING_COV_LMT'] >=300000) & (df['CV_HIGI_HOMEARD_DWELLING_COV_LMT'] <450000) & (df['CV_HIGI_HOMEARD_CMB_SQFTGRP2_ARD'] >= 1501) & (df['CV_HIGI_HOMEARD_CMB_SQFTGRP2_ARD'] <= 2000), 'cov_a_sq_ft'] = '$300k-$449k and sqft 1501-2000'\n",
    "df.loc[(df['CV_HIGI_HOMEARD_DWELLING_COV_LMT'] >=300000) & (df['CV_HIGI_HOMEARD_DWELLING_COV_LMT'] <450000) & (df['CV_HIGI_HOMEARD_CMB_SQFTGRP2_ARD'] >= 2001) & (df['CV_HIGI_HOMEARD_CMB_SQFTGRP2_ARD'] <= 2500), 'cov_a_sq_ft'] = '$300k-$449k and sqft 2001-2500'\n",
    "df.loc[(df['CV_HIGI_HOMEARD_DWELLING_COV_LMT'] >=300000) & (df['CV_HIGI_HOMEARD_DWELLING_COV_LMT'] <450000) & (df['CV_HIGI_HOMEARD_CMB_SQFTGRP2_ARD'] > 2500), 'cov_a_sq_ft'] = '$300k-$449k and sqft 2501+'\n",
    "\n",
    "#Group C\n",
    "df.loc[(df['CV_HIGI_HOMEARD_DWELLING_COV_LMT'] >=450000) & (df['CV_HIGI_HOMEARD_DWELLING_COV_LMT'] <650000) & (df['CV_HIGI_HOMEARD_CMB_SQFTGRP2_ARD'] >= 0) & (df['CV_HIGI_HOMEARD_CMB_SQFTGRP2_ARD'] <= 1500), 'cov_a_sq_ft'] = '$450k-$649k and sqft 0-1500'\n",
    "df.loc[(df['CV_HIGI_HOMEARD_DWELLING_COV_LMT'] >=450000) & (df['CV_HIGI_HOMEARD_DWELLING_COV_LMT'] <650000) & (df['CV_HIGI_HOMEARD_CMB_SQFTGRP2_ARD'] >= 1501) & (df['CV_HIGI_HOMEARD_CMB_SQFTGRP2_ARD'] <= 2000), 'cov_a_sq_ft'] = '$450k-$649k and sqft 1501-2000'\n",
    "df.loc[(df['CV_HIGI_HOMEARD_DWELLING_COV_LMT'] >=450000) & (df['CV_HIGI_HOMEARD_DWELLING_COV_LMT'] <650000) & (df['CV_HIGI_HOMEARD_CMB_SQFTGRP2_ARD'] >= 2001) & (df['CV_HIGI_HOMEARD_CMB_SQFTGRP2_ARD'] <= 2500), 'cov_a_sq_ft'] = '$450k-$649k and sqft 2001-2500'\n",
    "df.loc[(df['CV_HIGI_HOMEARD_DWELLING_COV_LMT'] >=450000) & (df['CV_HIGI_HOMEARD_DWELLING_COV_LMT'] <650000) & (df['CV_HIGI_HOMEARD_CMB_SQFTGRP2_ARD'] > 2500), 'cov_a_sq_ft'] = '$450k-$649k and sqft 2501+'\n",
    "\n",
    "#Group D\n",
    "df.loc[(df['CV_HIGI_HOMEARD_DWELLING_COV_LMT'] >=650000) & (df['CV_HIGI_HOMEARD_CMB_SQFTGRP2_ARD'] >= 0) & (df['CV_HIGI_HOMEARD_CMB_SQFTGRP2_ARD'] <= 1500), 'cov_a_sq_ft'] = '$650k+ and sqft 0-1500'\n",
    "df.loc[(df['CV_HIGI_HOMEARD_DWELLING_COV_LMT'] >=650000) & (df['CV_HIGI_HOMEARD_CMB_SQFTGRP2_ARD'] >= 1501) & (df['CV_HIGI_HOMEARD_CMB_SQFTGRP2_ARD'] <= 2000), 'cov_a_sq_ft'] = '$650k+ and sqft 1501-2000'\n",
    "df.loc[(df['CV_HIGI_HOMEARD_DWELLING_COV_LMT'] >=650000) & (df['CV_HIGI_HOMEARD_CMB_SQFTGRP2_ARD'] >= 2001) & (df['CV_HIGI_HOMEARD_CMB_SQFTGRP2_ARD'] <= 2500), 'cov_a_sq_ft'] = '$650k+ and sqft 2001-2500'\n",
    "df.loc[(df['CV_HIGI_HOMEARD_DWELLING_COV_LMT'] >=650000) & (df['CV_HIGI_HOMEARD_CMB_SQFTGRP2_ARD'] > 2500), 'cov_a_sq_ft'] = '$650k+ and sqft 2501+'\n",
    "df['cov_a_sq_ft'].value_counts()"
   ]
  },
  {
   "cell_type": "code",
   "execution_count": 9,
   "id": "d01215f6-0fa2-40d5-ba00-fc368d0b167f",
   "metadata": {},
   "outputs": [
    {
     "data": {
      "text/plain": [
       "dwell_age_grp\n",
       "61-70     11158\n",
       "41-50     10715\n",
       "51-60      9801\n",
       "16-20      8481\n",
       "21-25      7655\n",
       "26-30      6368\n",
       "91-100     5960\n",
       "71-80      5621\n",
       "0-5        5258\n",
       "36-40      4856\n",
       "31-35      4601\n",
       "6-10       3523\n",
       "11-15      3205\n",
       "81-90      2198\n",
       "Name: count, dtype: int64"
      ]
     },
     "execution_count": 9,
     "metadata": {},
     "output_type": "execute_result"
    }
   ],
   "source": [
    "# dwelling age\n",
    "df['CV_HIGI_HOMEARD_RMP30_DWELLING_AGE_CAP'] = pd.to_numeric(df['CV_HIGI_HOMEARD_RMP30_DWELLING_AGE_CAP'].replace('None', 0))\n",
    "df.loc[(df['CV_HIGI_HOMEARD_RMP30_DWELLING_AGE_CAP'] >=0)  & (df['CV_HIGI_HOMEARD_RMP30_DWELLING_AGE_CAP'] <=5), 'dwell_age_grp'] = '0-5'\n",
    "df.loc[(df['CV_HIGI_HOMEARD_RMP30_DWELLING_AGE_CAP'] >=6)  & (df['CV_HIGI_HOMEARD_RMP30_DWELLING_AGE_CAP'] <=10), 'dwell_age_grp'] = '6-10'\n",
    "df.loc[(df['CV_HIGI_HOMEARD_RMP30_DWELLING_AGE_CAP'] >=11)  & (df['CV_HIGI_HOMEARD_RMP30_DWELLING_AGE_CAP'] <=15), 'dwell_age_grp'] = '11-15'\n",
    "df.loc[(df['CV_HIGI_HOMEARD_RMP30_DWELLING_AGE_CAP'] >=16)  & (df['CV_HIGI_HOMEARD_RMP30_DWELLING_AGE_CAP'] <=20), 'dwell_age_grp'] = '16-20'\n",
    "df.loc[(df['CV_HIGI_HOMEARD_RMP30_DWELLING_AGE_CAP'] >=21)  & (df['CV_HIGI_HOMEARD_RMP30_DWELLING_AGE_CAP'] <=25), 'dwell_age_grp'] = '21-25'\n",
    "df.loc[(df['CV_HIGI_HOMEARD_RMP30_DWELLING_AGE_CAP'] >=26)  & (df['CV_HIGI_HOMEARD_RMP30_DWELLING_AGE_CAP'] <=30), 'dwell_age_grp'] = '26-30'\n",
    "df.loc[(df['CV_HIGI_HOMEARD_RMP30_DWELLING_AGE_CAP'] >=31)  & (df['CV_HIGI_HOMEARD_RMP30_DWELLING_AGE_CAP'] <=35), 'dwell_age_grp'] = '31-35'\n",
    "df.loc[(df['CV_HIGI_HOMEARD_RMP30_DWELLING_AGE_CAP'] >=36)  & (df['CV_HIGI_HOMEARD_RMP30_DWELLING_AGE_CAP'] <=40), 'dwell_age_grp'] = '36-40'\n",
    "df.loc[(df['CV_HIGI_HOMEARD_RMP30_DWELLING_AGE_CAP'] >=41)  & (df['CV_HIGI_HOMEARD_RMP30_DWELLING_AGE_CAP'] <=50), 'dwell_age_grp'] = '41-50'\n",
    "df.loc[(df['CV_HIGI_HOMEARD_RMP30_DWELLING_AGE_CAP'] >=51)  & (df['CV_HIGI_HOMEARD_RMP30_DWELLING_AGE_CAP'] <=60), 'dwell_age_grp'] = '51-60'\n",
    "df.loc[(df['CV_HIGI_HOMEARD_RMP30_DWELLING_AGE_CAP'] >=61)  & (df['CV_HIGI_HOMEARD_RMP30_DWELLING_AGE_CAP'] <=70), 'dwell_age_grp'] = '61-70'\n",
    "df.loc[(df['CV_HIGI_HOMEARD_RMP30_DWELLING_AGE_CAP'] >=71)  & (df['CV_HIGI_HOMEARD_RMP30_DWELLING_AGE_CAP'] <=80), 'dwell_age_grp'] = '71-80'\n",
    "df.loc[(df['CV_HIGI_HOMEARD_RMP30_DWELLING_AGE_CAP'] >=81)  & (df['CV_HIGI_HOMEARD_RMP30_DWELLING_AGE_CAP'] <=90), 'dwell_age_grp'] = '81-90'\n",
    "df.loc[(df['CV_HIGI_HOMEARD_RMP30_DWELLING_AGE_CAP'] >=91)  & (df['CV_HIGI_HOMEARD_RMP30_DWELLING_AGE_CAP'] <=100), 'dwell_age_grp'] = '91-100'\n",
    "df.loc[df['CV_HIGI_HOMEARD_RMP30_DWELLING_AGE_CAP']  >100, 'dwell_age_grp'] = '100+'\n",
    "df['dwell_age_grp'].value_counts()"
   ]
  },
  {
   "cell_type": "code",
   "execution_count": 10,
   "id": "e3ac5b38-ce91-4a96-8256-b1c1d50f9100",
   "metadata": {},
   "outputs": [
    {
     "data": {
      "text/plain": [
       "ttl_bath_cnt\n",
       "2     47573\n",
       "3     22107\n",
       "1     14231\n",
       "4      4653\n",
       "5       671\n",
       "6       142\n",
       "7        17\n",
       "8         4\n",
       "9+        2\n",
       "Name: count, dtype: int64"
      ]
     },
     "execution_count": 10,
     "metadata": {},
     "output_type": "execute_result"
    }
   ],
   "source": [
    "# Total Bath Count\n",
    "df['CV_HIGV_ATM_SA_NBR_BATH_CALC_2'] = pd.to_numeric(df['CV_HIGV_ATM_SA_NBR_BATH_CALC_2'].replace('None', 0))\n",
    "df.loc[(df['CV_HIGV_ATM_SA_NBR_BATH_CALC_2'] == 1), 'ttl_bath_cnt'] = '1'\n",
    "df.loc[(df['CV_HIGV_ATM_SA_NBR_BATH_CALC_2'] == 2), 'ttl_bath_cnt'] = '2'\n",
    "df.loc[(df['CV_HIGV_ATM_SA_NBR_BATH_CALC_2'] == 3), 'ttl_bath_cnt'] = '3'\n",
    "df.loc[(df['CV_HIGV_ATM_SA_NBR_BATH_CALC_2'] == 4), 'ttl_bath_cnt'] = '4'\n",
    "df.loc[(df['CV_HIGV_ATM_SA_NBR_BATH_CALC_2'] == 5), 'ttl_bath_cnt'] = '5'\n",
    "df.loc[(df['CV_HIGV_ATM_SA_NBR_BATH_CALC_2'] == 6), 'ttl_bath_cnt'] = '6'\n",
    "df.loc[(df['CV_HIGV_ATM_SA_NBR_BATH_CALC_2'] == 7), 'ttl_bath_cnt'] = '7'\n",
    "df.loc[(df['CV_HIGV_ATM_SA_NBR_BATH_CALC_2'] == 8), 'ttl_bath_cnt'] = '8'\n",
    "df.loc[(df['CV_HIGV_ATM_SA_NBR_BATH_CALC_2'] >= 9), 'ttl_bath_cnt'] = '9+'\n",
    "df['ttl_bath_cnt'].value_counts()"
   ]
  },
  {
   "cell_type": "code",
   "execution_count": 11,
   "id": "43df0b81-3ca1-4747-8938-1a31b3f19239",
   "metadata": {},
   "outputs": [
    {
     "data": {
      "text/plain": [
       "roof_cond_deriv_num\n",
       "2                26162\n",
       "1                24872\n",
       "0                18065\n",
       "not_available    10023\n",
       "-1                7195\n",
       "unknown           2179\n",
       "-2                 904\n",
       "Name: count, dtype: int64"
      ]
     },
     "execution_count": 11,
     "metadata": {},
     "output_type": "execute_result"
    }
   ],
   "source": [
    "# Roof Condition Derived Num (doesn't need to be done since it's a direct segment)\n",
    "df.loc[(df['ROOF_COND_DERIV_SCR_NUM'] == \"-2\"), 'roof_cond_deriv_num'] = '-2'\n",
    "df.loc[(df['ROOF_COND_DERIV_SCR_NUM'] == \"-1\"), 'roof_cond_deriv_num'] = '-1'\n",
    "df.loc[(df['ROOF_COND_DERIV_SCR_NUM'] == \"0\"), 'roof_cond_deriv_num'] = '0'\n",
    "df.loc[(df['ROOF_COND_DERIV_SCR_NUM'] == \"1\"), 'roof_cond_deriv_num'] = '1'\n",
    "df.loc[(df['ROOF_COND_DERIV_SCR_NUM'] == \"2\"), 'roof_cond_deriv_num'] = '2'\n",
    "df.loc[(df['ROOF_COND_DERIV_SCR_NUM'] == \"not_available\"), 'roof_cond_deriv_num'] = 'not_available'\n",
    "df.loc[(df['ROOF_COND_DERIV_SCR_NUM'] == \"unknown\"), 'roof_cond_deriv_num'] = 'unknown'\n",
    "df['roof_cond_deriv_num'].value_counts()"
   ]
  },
  {
   "cell_type": "code",
   "execution_count": 12,
   "id": "95975153-2575-4279-8765-a965a4b13aa2",
   "metadata": {},
   "outputs": [],
   "source": [
    "writer = pd.ExcelWriter('./SM_Home_ULM_2024_2Q_refresh.xlsx', engine = 'xlsxwriter')\n",
    "summarize_data(dataframe = df, by_vars = ['cv_decile', ], aggdict = aggregation_dict, writer = writer, outsheet = 'cv_decile')\n",
    "summarize_data(dataframe = df, by_vars = ['cv_quintile', ], aggdict = aggregation_dict, writer = writer, outsheet = 'cv_quintile')\n",
    "summarize_data(dataframe = df, by_vars = ['cov_a_sq_ft', ], aggdict = aggregation_dict, writer = writer, outsheet = 'cov_a_sq_ft')\n",
    "summarize_data(dataframe = df, by_vars = ['dwell_age_grp', ], aggdict = aggregation_dict, writer = writer, outsheet = 'dwell_age_grp')\n",
    "summarize_data(dataframe = df, by_vars = ['ttl_bath_cnt', ], aggdict = aggregation_dict, writer = writer, outsheet = 'ttl_bath_cnt')\n",
    "summarize_data(dataframe = df, by_vars = ['ROOF_COND_DERIV_SCR_NUM', ], aggdict = aggregation_dict, writer = writer, outsheet = 'roof_score')\n",
    "writer.close()"
   ]
  }
 ],
 "metadata": {
  "kernelspec": {
   "display_name": "Python 3 (ipykernel)",
   "language": "python",
   "name": "python3"
  },
  "language_info": {
   "codemirror_mode": {
    "name": "ipython",
    "version": 3
   },
   "file_extension": ".py",
   "mimetype": "text/x-python",
   "name": "python",
   "nbconvert_exporter": "python",
   "pygments_lexer": "ipython3",
   "version": "3.9.12"
  }
 },
 "nbformat": 4,
 "nbformat_minor": 5
}
