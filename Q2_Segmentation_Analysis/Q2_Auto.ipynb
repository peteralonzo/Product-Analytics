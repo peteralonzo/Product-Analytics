{
 "cells": [
  {
   "cell_type": "code",
   "execution_count": 1,
   "id": "bb21e908-4f20-40f0-8228-44daa54cc7c5",
   "metadata": {},
   "outputs": [],
   "source": [
    "import snowflake.connector\n",
    "import os\n",
    "from cryptography.hazmat.backends import default_backend\n",
    "from cryptography.hazmat.primitives.asymmetric import rsa\n",
    "from cryptography.hazmat.primitives.asymmetric import dsa\n",
    "from cryptography.hazmat.primitives import serialization\n",
    "import pandas as pd\n",
    "import numpy as np\n",
    "import copy"
   ]
  },
  {
   "cell_type": "code",
   "execution_count": 2,
   "id": "8dd31d78-a45e-4360-96fc-8843ce359a14",
   "metadata": {},
   "outputs": [
    {
     "data": {
      "text/plain": [
       "(331290, 71)"
      ]
     },
     "execution_count": 2,
     "metadata": {},
     "output_type": "execute_result"
    }
   ],
   "source": [
    "# Snowflake connection - DSC\n",
    "with open('/etc/security/snowflake/' + \"/rsa_plbiap01dy.p8\", \"rb\") as key:\n",
    "    p_key = serialization.load_pem_private_key(\n",
    "        key.read(),\n",
    "        password='snowflake'.encode(),\n",
    "        backend=default_backend())\n",
    "\n",
    "pkb = p_key.private_bytes(\n",
    "    encoding=serialization.Encoding.DER,\n",
    "    format=serialization.PrivateFormat.PKCS8,\n",
    "    encryption_algorithm=serialization.NoEncryption())\n",
    "\n",
    "ctx = snowflake.connector.connect(\n",
    "        user='plbiap01dy',\n",
    "        account='hfsg_prod.us-east-1.privatelink',\n",
    "        private_key=pkb,\n",
    "        warehouse='DSC_PLBI_PRD_MFG_WHS',\n",
    "        role='plbiap01dy_prd_pii_role'\n",
    ")\n",
    "\n",
    "# Snowflake queries\n",
    "query_scoremart = \"\"\"SELECT * from DSC_PLDS_DB.APP_AUTOMATA_PRD.PREVAIL_AUTO_ULM_QUOTE_POL_AGG_NB_QUALITY where trans_dt between '2022-01-01' and '2024-06-30' and issue_ind = 'Y'\"\"\"\n",
    "\n",
    "# Get data from Snowflake\n",
    "cs = ctx.cursor()\n",
    "try:\n",
    "    cs.execute(query_scoremart)\n",
    "    df = cs.fetch_pandas_all()\n",
    "finally:\n",
    "    cs.close()\n",
    "ctx.close()\n",
    "\n",
    "df.shape"
   ]
  },
  {
   "cell_type": "code",
   "execution_count": 3,
   "id": "acff3dd2-7061-4662-a897-04ad60fc767f",
   "metadata": {},
   "outputs": [],
   "source": [
    "# calculate relativities\n",
    "all_state_mean_lr_dict = df.groupby('STATE').agg(all_state_mean_lr_dict = ('EXPECTED_LOSS_RATIO', 'mean')).to_dict()\n",
    "df[\"all_state_lr_mean\"] = df[\"STATE\"].map(all_state_mean_lr_dict['all_state_mean_lr_dict'])\n",
    "df['ULM_eLRR'] = df['EXPECTED_LOSS_RATIO'] / df['all_state_lr_mean']\n",
    "\n",
    "all_state_mean_ol_lr_dict = df.groupby('STATE').agg(all_state_mean_ol_lr_dict = ('OL_EXPECTED_LOSS_RATIO', 'mean')).to_dict()\n",
    "df[\"all_state_ol_lr_mean\"] = df[\"STATE\"].map(all_state_mean_ol_lr_dict['all_state_mean_ol_lr_dict'])\n",
    "df['ULM_OL_eLRR'] = df['OL_EXPECTED_LOSS_RATIO'] / df['all_state_ol_lr_mean']"
   ]
  },
  {
   "cell_type": "code",
   "execution_count": 4,
   "id": "88d5c7d5-4c25-4054-a9a5-ff3dfbbd3835",
   "metadata": {},
   "outputs": [],
   "source": [
    "def summarize_data(dataframe, by_vars, aggdict, writer, outsheet):\n",
    "    \n",
    "    # create deep copy\n",
    "    df_tmp = copy.deepcopy(dataframe)        \n",
    "            \n",
    "    # summarize\n",
    "    table = df_tmp.pivot_table(index = by_vars, aggfunc = aggdict).reset_index()\n",
    "    \n",
    "    # write to excel\n",
    "    table.to_excel(writer, sheet_name=outsheet, index = False)\n",
    "    # writer.save()"
   ]
  },
  {
   "cell_type": "code",
   "execution_count": 5,
   "id": "c6231d28-602f-4574-920d-758d46d58a5c",
   "metadata": {},
   "outputs": [],
   "source": [
    "# aggregations\n",
    "aggregation_dict = {'COMPL_QTE_IND': 'count',\n",
    "           'ULM_eLRR': 'mean',\n",
    "#           'ULM_OL_eLRR': 'mean',\n",
    "           }"
   ]
  },
  {
   "cell_type": "code",
   "execution_count": 6,
   "id": "a9d9cda5-1ea2-41fb-91a4-9673ca91e282",
   "metadata": {},
   "outputs": [
    {
     "data": {
      "text/plain": [
       "hh_comp\n",
       "1 Car, 1 Driver              156135\n",
       "Multi Car, Cars = Drivers     73678\n",
       "1 Car, 2+ Drivers             52415\n",
       "Multi Car, Cars > Drivers     44646\n",
       "Multi Car, Cars < Drivers      4416\n",
       "Name: count, dtype: int64"
      ]
     },
     "execution_count": 6,
     "metadata": {},
     "output_type": "execute_result"
    }
   ],
   "source": [
    "# Household Comp\n",
    "df.loc[df['CF_HOUSEHOLD_COMPOSITION'] == 'single_car_one_driver', 'hh_comp'] = '1 Car, 1 Driver'\n",
    "df.loc[df['CF_HOUSEHOLD_COMPOSITION'] == 'single_car_more_than_one_driver', 'hh_comp'] = '1 Car, 2+ Drivers'\n",
    "df.loc[df['CF_HOUSEHOLD_COMPOSITION'] == 'multi_car_more_cars_than_drivers', 'hh_comp'] = 'Multi Car, Cars > Drivers'\n",
    "df.loc[df['CF_HOUSEHOLD_COMPOSITION'] == 'multi_car_cars_equals_drivers', 'hh_comp'] = 'Multi Car, Cars = Drivers'\n",
    "df.loc[df['CF_HOUSEHOLD_COMPOSITION'] == 'multi_car_more_drivers_than_cars', 'hh_comp'] = 'Multi Car, Cars < Drivers'\n",
    "df['hh_comp'].value_counts()"
   ]
  },
  {
   "cell_type": "code",
   "execution_count": 7,
   "id": "bc75d4a7-79f0-42d8-9d10-40685ef65f3b",
   "metadata": {},
   "outputs": [
    {
     "data": {
      "text/plain": [
       "PNI_AGE_grp\n",
       "60-69    117410\n",
       "70-79     98937\n",
       "50-59     75642\n",
       "80+       37901\n",
       "<50        1390\n",
       "Name: count, dtype: int64"
      ]
     },
     "execution_count": 7,
     "metadata": {},
     "output_type": "execute_result"
    }
   ],
   "source": [
    "# Primary Named Insured age\n",
    "df.loc[df['PNI_AGE'] <50, 'PNI_AGE_grp'] = '<50'\n",
    "df.loc[(df['PNI_AGE'] >=50) & (df['PNI_AGE'] <60), 'PNI_AGE_grp'] = '50-59'\n",
    "df.loc[(df['PNI_AGE'] >=60) & (df['PNI_AGE'] <70), 'PNI_AGE_grp'] = '60-69'\n",
    "df.loc[(df['PNI_AGE'] >=70) & (df['PNI_AGE'] <80), 'PNI_AGE_grp'] = '70-79'\n",
    "df.loc[df['PNI_AGE'] >=80, 'PNI_AGE_grp'] = '80+'\n",
    "df['PNI_AGE_grp'].value_counts()"
   ]
  },
  {
   "cell_type": "code",
   "execution_count": 8,
   "id": "6b84bcab-530b-4b5d-813d-5a2674de22e6",
   "metadata": {},
   "outputs": [
    {
     "data": {
      "text/plain": [
       "acct_credit\n",
       "No     243389\n",
       "Yes     87901\n",
       "Name: count, dtype: int64"
      ]
     },
     "execution_count": 8,
     "metadata": {},
     "output_type": "execute_result"
    }
   ],
   "source": [
    "# Account Credit\n",
    "df['acct_credit'] = 'Yes'\n",
    "df.loc[df['CF_ACCOUNT_CREDIT'] == 'None', 'acct_credit'] = 'No'\n",
    "df.loc[df['CF_ACCOUNT_CREDIT'] == 'H', 'acct_credit'] = 'No'\n",
    "df['acct_credit'].value_counts()"
   ]
  },
  {
   "cell_type": "code",
   "execution_count": 9,
   "id": "18e4a4a6-cb77-4935-8af2-54980b2c4bc0",
   "metadata": {},
   "outputs": [
    {
     "data": {
      "text/plain": [
       "adv_qte_days\n",
       "14-60      137761\n",
       "76-365     105922\n",
       "1-13        69888\n",
       "61-75       11378\n",
       "0            4616\n",
       "exclude      1725\n",
       "Name: count, dtype: int64"
      ]
     },
     "execution_count": 9,
     "metadata": {},
     "output_type": "execute_result"
    }
   ],
   "source": [
    "# Advance Quote Days\n",
    "df['CV_ADV_QUOTE_DAYS_NEW'] = pd.to_numeric(df['CV_ADV_QUOTE_DAYS_NEW'])\n",
    "df.loc[(df['CV_ADV_QUOTE_DAYS_NEW'] < 0)   | (df['CV_ADV_QUOTE_DAYS_NEW'] > 365), 'adv_qte_days'] = 'exclude'\n",
    "df.loc[(df['CV_ADV_QUOTE_DAYS_NEW'] == 0), 'adv_qte_days'] = '0'\n",
    "df.loc[(df['CV_ADV_QUOTE_DAYS_NEW'] >= 1) & (df['CV_ADV_QUOTE_DAYS_NEW'] <= 13), 'adv_qte_days'] = '1-13'\n",
    "df.loc[(df['CV_ADV_QUOTE_DAYS_NEW'] >= 14) & (df['CV_ADV_QUOTE_DAYS_NEW'] <= 60), 'adv_qte_days'] = '14-60'\n",
    "df.loc[(df['CV_ADV_QUOTE_DAYS_NEW'] >= 61) & (df['CV_ADV_QUOTE_DAYS_NEW'] <= 75), 'adv_qte_days'] = '61-75'\n",
    "df.loc[(df['CV_ADV_QUOTE_DAYS_NEW'] >= 76) & (df['CV_ADV_QUOTE_DAYS_NEW'] <= 365), 'adv_qte_days'] = '76-365'\n",
    "df['adv_qte_days'].value_counts()"
   ]
  },
  {
   "cell_type": "code",
   "execution_count": 10,
   "id": "3fd1d01f-c4b3-4a3f-921b-ac07dfb24837",
   "metadata": {},
   "outputs": [],
   "source": [
    "writer = pd.ExcelWriter('./SM_Auto_ULM_2024_2Q_refresh.xlsx', engine = 'xlsxwriter')\n",
    "summarize_data(dataframe = df, by_vars = ['hh_comp', ], aggdict = aggregation_dict, writer = writer, outsheet = 'hh_comp')\n",
    "summarize_data(dataframe = df, by_vars = ['PNI_AGE_grp', ], aggdict = aggregation_dict, writer = writer, outsheet = 'PNI_AGE_grp')\n",
    "summarize_data(dataframe = df, by_vars = ['acct_credit', ], aggdict = aggregation_dict, writer = writer, outsheet = 'acct_credit')\n",
    "summarize_data(dataframe = df, by_vars = ['CF_VEH_TELEMATIC_IND', ], aggdict = aggregation_dict, writer = writer, outsheet = 'telematics_enrollment')\n",
    "summarize_data(dataframe = df, by_vars = ['adv_qte_days', ], aggdict = aggregation_dict, writer = writer, outsheet = 'adv_qte_days')\n",
    "writer.close()"
   ]
  }
 ],
 "metadata": {
  "kernelspec": {
   "display_name": "Python 3 (ipykernel)",
   "language": "python",
   "name": "python3"
  },
  "language_info": {
   "codemirror_mode": {
    "name": "ipython",
    "version": 3
   },
   "file_extension": ".py",
   "mimetype": "text/x-python",
   "name": "python",
   "nbconvert_exporter": "python",
   "pygments_lexer": "ipython3",
   "version": "3.9.12"
  }
 },
 "nbformat": 4,
 "nbformat_minor": 5
}
