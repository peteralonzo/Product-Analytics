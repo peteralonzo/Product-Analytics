{
 "cells": [
  {
   "cell_type": "code",
   "execution_count": 1,
   "id": "9075eff0-6e9a-4933-8aa5-5a8d41d48947",
   "metadata": {},
   "outputs": [],
   "source": [
    "# pip install openpyxl\n",
    "# pip install pandas"
   ]
  },
  {
   "cell_type": "code",
   "execution_count": 2,
   "id": "b1a66eb7-6b41-43b9-82d7-82c65cfec7c4",
   "metadata": {
    "scrolled": true
   },
   "outputs": [],
   "source": [
    "import pandas as pd\n",
    "import configparser\n",
    "import snowflake.connector\n",
    "from snowflake.connector.pandas_tools import write_pandas\n",
    "from cryptography.hazmat.backends import default_backend\n",
    "from cryptography.hazmat.primitives import serialization\n",
    "\n",
    "# Setting up connection to Snowflake via personal work account\n",
    "config = configparser.ConfigParser()\n",
    "config.read('toad.cfg')\n",
    "snowflake_pass = config['SNOWFLAKE']['secret_passphrase']\n",
    "\n",
    "with open(\"/tech/appl/default/user/pa08042e/rsa_snow.p8\", \"rb\") as key:\n",
    "    private_key= serialization.load_pem_private_key(\n",
    "        key.read(),\n",
    "        password= snowflake_pass.encode(),\n",
    "        backend=default_backend()\n",
    "    )\n",
    "\n",
    "pkb = private_key.private_bytes(\n",
    "    encoding=serialization.Encoding.DER,\n",
    "    format=serialization.PrivateFormat.PKCS8,\n",
    "    encryption_algorithm=serialization.NoEncryption())\n",
    "\n",
    "ctx = snowflake.connector.connect(\n",
    "    user='pa08042',\n",
    "    account='hfsg_prod.us-east-1',\n",
    "    private_key=pkb,\n",
    "    database='user_db',\n",
    "    schema='AD1_PA08042'\n",
    "    )"
   ]
  },
  {
   "cell_type": "code",
   "execution_count": 3,
   "id": "a85f61e9-565a-47af-bfac-62b4760dd6b6",
   "metadata": {},
   "outputs": [],
   "source": [
    "# Creating an empty dataframe with correct schema to append Snowflake state data to\n",
    "full_data = pd.DataFrame(columns = ['POL_ID', 'RISK_ST_ABBR', 'ORIG_POL_EFF_DT', 'POL_EFF_DT', 'TRANS_STAT_DESC', 'CLEAN_DIRTY_CD',\n",
    "                                    'POL_TTL_SPEED_MNR_VIO_CNT', 'POL_TTL_NSPD_MNR_VIO_CNT', 'UW_ELIG_POL_AFA_CNT', 'UW_ELIG_POL_NAF_ACCID_CNT',\n",
    "                                    'UW_ELIG_POL_COMP_CLM_CNT', 'UW_ELIG_POL_MLTRY_PRMT_CNT', 'UW_ELIG_POL_PERM_USE_ACCID_CNT', 'UW_ELIG_RENTL_TOW_GLASS_CNT',\n",
    "                                    'DERIVED_TTL_ACCID_VIO_COMP_CNT', 'DERIVED_YES_NO_FLAG'])\n",
    "\n",
    "# This dictionary stores the renewal dates associated with each state that has the UW Clean/Dirty functionality\n",
    "renewal_state_dict = {'\\'IN\\'': '\\'2024-09-09\\'', \n",
    "                      '\\'TN\\',\\'MO\\'': '\\'2024-09-01\\'', \n",
    "                      '\\'AZ\\'': '\\'2024-09-14\\'',\n",
    "                     '\\'CO\\', \\'IA\\', \\'ID\\', \\'LA\\', \\'OK\\', \\'UT\\', \\'WY\\'': '\\'2024-11-24\\'',\n",
    "                     '\\'NE\\', \\'MS\\'': '\\'2024-12-02\\'', \n",
    "                      '\\'MD\\', \\'VT\\', \\'WV\\'': '\\'2024-12-07\\'', \n",
    "                      '\\'KY\\'': '\\'2024-12-27\\'',\n",
    "                     '\\'MN\\', \\'SD\\'': '\\'2024-12-22\\'',\n",
    "                     '\\'WI\\'': '\\'2024-12-23\\''}\n",
    "\n",
    "# Iterates through renewal dictionary\n",
    "for key, value in renewal_state_dict.items():\n",
    "    \n",
    "    # Takes every item in dictionary and uses the key/value as filters for the query that is based on ThoughtSpot answer\n",
    "    query = f\"\"\"\n",
    "    SELECT POL_ID, RISK_ST_ABBR, \n",
    "    TO_CHAR(TO_DATE(ORIG_POL_EFF_DT), 'Mon YYYY') AS ORIG_POL_EFF_DT, \n",
    "    TO_CHAR(TO_DATE(POL_EFF_DT), 'Mon YYYY') AS POL_EFF_DT,\n",
    "    TRANS_STAT_DESC, CLEAN_DIRTY_CD,\n",
    "    POL_TTL_SPEED_MNR_VIO_CNT, POL_TTL_NSPD_MNR_VIO_CNT,\n",
    "    ZEROIFNULL(UW_ELIG_POL_AFA_CNT) AS UW_ELIG_POL_AFA_CNT,\n",
    "    ZEROIFNULL(UW_ELIG_POL_NAF_ACCID_CNT) AS UW_ELIG_POL_NAF_ACCID_CNT,\n",
    "    ZEROIFNULL(UW_ELIG_POL_COMP_CLM_CNT) AS UW_ELIG_POL_COMP_CLM_CNT,\n",
    "    ZEROIFNULL(UW_ELIG_POL_MLTRY_PRMT_CNT) AS UW_ELIG_POL_MLTRY_PRMT_CNT,\n",
    "    ZEROIFNULL(UW_ELIG_POL_PERM_USE_ACCID_CNT) AS UW_ELIG_POL_PERM_USE_ACCID_CNT,\n",
    "    ZEROIFNULL(UW_ELIG_RENTL_TOW_GLASS_CNT) AS UW_ELIG_RENTL_TOW_GLASS_CNT,\n",
    "    ZEROIFNULL(UW_ELIG_POL_AFA_CNT + UW_ELIG_POL_NAF_ACCID_CNT + \n",
    "    UW_ELIG_POL_COMP_CLM_CNT + UW_ELIG_POL_MLTRY_PRMT_CNT + UW_ELIG_POL_PERM_USE_ACCID_CNT) AS DERIVED_TTL_ACCID_VIO_COMP_CNT,\n",
    "    CASE WHEN DERIVED_TTL_ACCID_VIO_COMP_CNT = 0 THEN 'No Acc/Viol/Comp' ELSE 'Yes Acc/Viol/Comp' END AS DERIVED_YES_NO_FLAG\n",
    "    FROM \"PRD_PL_DB\".\"APP_DCPA_DM\".\"AUTO_POLICY_LATST_VW\"\n",
    "    WHERE POL_EFF_DT >= {value} \n",
    "    AND RISK_ST_ABBR IN ({key})\n",
    "    AND ORIG_POL_EFF_DT < {value}\n",
    "    \"\"\"\n",
    "    \n",
    "    # Gets policies from Snowflake\n",
    "    cs = ctx.cursor()\n",
    "    try:\n",
    "        cs.execute(query)\n",
    "        df_temp = cs.fetch_pandas_all()\n",
    "    finally:\n",
    "        cs.close()\n",
    "\n",
    "    # Appends the records pulled from Snowflake \n",
    "    full_data = pd.concat([full_data, df_temp], ignore_index = True)"
   ]
  },
  {
   "cell_type": "code",
   "execution_count": 4,
   "id": "728bf886-702d-4655-ada8-72888e092a81",
   "metadata": {},
   "outputs": [
    {
     "data": {
      "text/plain": [
       "(35455, 16)"
      ]
     },
     "execution_count": 4,
     "metadata": {},
     "output_type": "execute_result"
    }
   ],
   "source": [
    "full_data.shape"
   ]
  },
  {
   "cell_type": "code",
   "execution_count": 5,
   "id": "9c3d1d88-8f7b-49c8-a367-4ef2dac6a35b",
   "metadata": {},
   "outputs": [
    {
     "name": "stdout",
     "output_type": "stream",
     "text": [
      "True\n"
     ]
    }
   ],
   "source": [
    "# Writes the policy data to Snowflake\n",
    "full_data.reset_index(drop=True, inplace=True)\n",
    "success, nchunks, nrows, _ = write_pandas(ctx, full_data,'FULL_UW_PYTHON', table_type = 'transient', use_logical_type=True, overwrite=True)\n",
    "print(success)"
   ]
  },
  {
   "cell_type": "code",
   "execution_count": 6,
   "id": "b87bd4dd-202e-4cf3-b298-e24b143e76e8",
   "metadata": {},
   "outputs": [],
   "source": [
    "# Creates the dashboard's table starting with July states (AZ, IN, MO, TN)\n",
    "july_query = \"\"\"\n",
    "CREATE OR REPLACE TRANSIENT TABLE USER_DB.AD1_PA08042.DATA_JULY\n",
    "AS\n",
    "(\n",
    "SELECT \n",
    "UW_AUTO.POL_ID, \n",
    "EARNED_MONTH,\n",
    "MIN(UW_AUTO.RISK_ST_ABBR) AS RISK_ST_ABBR,\n",
    "MIN(UW_AUTO.ORIG_POL_EFF_DT) AS ORIG_POL_EFF_DT,\n",
    "MIN(UW_AUTO.POL_EFF_DT) AS LATEST_POL_EFF_DT,\n",
    "MIN(UW_AUTO.TRANS_STAT_DESC) AS TRANS_STAT_DESC,\n",
    "MIN(UW_AUTO.CLEAN_DIRTY_CD) AS CLEAN_DIRTY_CD,\n",
    "MIN(UW_AUTO.POL_TTL_SPEED_MNR_VIO_CNT) AS POL_TTL_SPEED_MNR_VIO_CNT,\n",
    "MIN(UW_AUTO.POL_TTL_NSPD_MNR_VIO_CNT) AS POL_TTL_NSPD_MNR_VIO_CNT,\n",
    "MIN(UW_AUTO.UW_ELIG_POL_AFA_CNT) AS UW_ELIG_POL_AFA_CNT,\n",
    "MIN(UW_AUTO.UW_ELIG_POL_NAF_ACCID_CNT) AS UW_ELIG_POL_NAF_ACCID_CNT,\n",
    "MIN(UW_AUTO.UW_ELIG_POL_COMP_CLM_CNT) AS UW_ELIG_POL_COMP_CLM_CNT,\n",
    "MIN(UW_AUTO.UW_ELIG_POL_MLTRY_PRMT_CNT) AS UW_ELIG_POL_MLTY_PRMT_CNT,\n",
    "MIN(UW_AUTO.UW_ELIG_POL_PERM_USE_ACCID_CNT) AS UW_ELIG_POL_PERM_USE_ACCID_CNT,\n",
    "MIN(UW_AUTO.UW_ELIG_RENTL_TOW_GLASS_CNT) AS UW_ELIG_RENTL_TOW_GLASS_CNT,\n",
    "MIN(UW_AUTO.DERIVED_TTL_ACCID_VIO_COMP_CNT) AS DERIVED_TTL_ACCID_VIO_COMP_CNT,\n",
    "MIN(UW_AUTO.DERIVED_YES_NO_FLAG) AS DERIVED_YES_NO_FLAG,\n",
    "SUM(AUTO_OP_LOSS.INCUR_CLM_CNT_XCAT) AS INCUR_CLM_CNT_XCAT,\n",
    "SUM(AUTO_OP_LOSS.DERIV_INCUR_LOSS_AMT_XCAT) AS DERIV_INCUR_LOSS_AMT_XCAT,\n",
    "SUM(AUTO_OP_LOSS.GLASS_TOW_INCUR_CLM_CNT) AS GLASS_TOW_INCUR_CLM_CNT,\n",
    "SUM(AUTO_OP_LOSS.GLASS_TOW_INCUR_LOSS_AMT) AS GLASS_TOW_INCUR_LOSS_AMT,\n",
    "SUM(AUTO_OP_LOSS.DERIV_ADJ_EP_AMT) AS EP,                 \n",
    "SUM(AUTO_OP_LOSS.RERATED_EP_EPAPR_AMT) AS EPAPR,            \n",
    "DAY(LAST_DAY(TO_DATE(EARNED_MONTH || '01', 'YYYYMMDD'))) / \n",
    "IFF(MOD(SUBSTR(EARNED_MONTH, 1, 4), 4) = 0 AND (MOD(SUBSTR(EARNED_MONTH, 1, 4), 100) != 0 OR MOD(SUBSTR(EARNED_MONTH, 1, 4), 400) = 0), 366, 365)\n",
    "AS EE                                                    \n",
    "FROM \"DSC_PLBI_DB\".\"APP_AUTO_PRD\".\"AUTO_OPERATIONAL_LOSS\" AS AUTO_OP_LOSS\n",
    "JOIN USER_DB.AD1_PA08042.FULL_UW_PYTHON AS UW_AUTO\n",
    "ON CAST(AUTO_OP_LOSS.POL_ID AS VARCHAR) = CAST(UW_AUTO.POL_ID AS VARCHAR)\n",
    "WHERE COV_TYPE_ABBR != 'PUP'\n",
    "AND RISK_ST_ABBR IN ('AZ', 'IN', 'MO', 'TN')\n",
    "AND EARNED_MONTH >= '202407' \n",
    "GROUP BY UW_AUTO.POL_ID, EARNED_MONTH \n",
    "ORDER BY UW_AUTO.POL_ID, EARNED_MONTH   \n",
    ")\n",
    "\"\"\"\n",
    "\n",
    "# Adds October states to the dashboard's table (CO, MS, WI, UT, KY, MD, IA, LA, MN, NE, ID, WV, VT, WY, OK, SD)\n",
    "october_query = \"\"\"\n",
    "INSERT INTO USER_DB.AD1_PA08042.DATA_JULY\n",
    "SELECT \n",
    "UW_AUTO.POL_ID, \n",
    "EARNED_MONTH,   \n",
    "\n",
    "MIN(UW_AUTO.RISK_ST_ABBR) AS RISK_ST_ABBR,\n",
    "MIN(UW_AUTO.ORIG_POL_EFF_DT) AS ORIG_POL_EFF_DT,\n",
    "MIN(UW_AUTO.POL_EFF_DT) AS LATEST_POL_EFF_DT,\n",
    "MIN(UW_AUTO.TRANS_STAT_DESC) AS TRANS_STAT_DESC,\n",
    "MIN(UW_AUTO.CLEAN_DIRTY_CD) AS CLEAN_DIRTY_CD,\n",
    "MIN(UW_AUTO.POL_TTL_SPEED_MNR_VIO_CNT) AS POL_TTL_SPEED_MNR_VIO_CNT,\n",
    "MIN(UW_AUTO.POL_TTL_NSPD_MNR_VIO_CNT) AS POL_TTL_NSPD_MNR_VIO_CNT,\n",
    "MIN(UW_AUTO.UW_ELIG_POL_AFA_CNT) AS UW_ELIG_POL_AFA_CNT,\n",
    "MIN(UW_AUTO.UW_ELIG_POL_NAF_ACCID_CNT) AS UW_ELIG_POL_NAF_ACCID_CNT,\n",
    "MIN(UW_AUTO.UW_ELIG_POL_COMP_CLM_CNT) AS UW_ELIG_POL_COMP_CLM_CNT,\n",
    "MIN(UW_AUTO.UW_ELIG_POL_MLTRY_PRMT_CNT) AS UW_ELIG_POL_MLTY_PRMT_CNT,\n",
    "MIN(UW_AUTO.UW_ELIG_POL_PERM_USE_ACCID_CNT) AS UW_ELIG_POL_PERM_USE_ACCID_CNT,\n",
    "MIN(UW_AUTO.UW_ELIG_RENTL_TOW_GLASS_CNT) AS UW_ELIG_RENTL_TOW_GLASS_CNT,\n",
    "MIN(UW_AUTO.DERIVED_TTL_ACCID_VIO_COMP_CNT) AS DERIVED_TTL_ACCID_VIO_COMP_CNT,\n",
    "MIN(UW_AUTO.DERIVED_YES_NO_FLAG) AS DERIVED_YES_NO_FLAG,\n",
    "\n",
    "SUM(AUTO_OP_LOSS.INCUR_CLM_CNT_XCAT) AS INCUR_CLM_CNT_XCAT,\n",
    "SUM(AUTO_OP_LOSS.DERIV_INCUR_LOSS_AMT_XCAT) AS DERIV_INCUR_LOSS_AMT_XCAT,\n",
    "SUM(AUTO_OP_LOSS.GLASS_TOW_INCUR_CLM_CNT) AS GLASS_TOW_INCUR_CLM_CNT,\n",
    "SUM(AUTO_OP_LOSS.GLASS_TOW_INCUR_LOSS_AMT) AS GLASS_TOW_INCUR_LOSS_AMT,\n",
    "\n",
    "SUM(AUTO_OP_LOSS.DERIV_ADJ_EP_AMT) AS EP, \n",
    "SUM(AUTO_OP_LOSS.RERATED_EP_EPAPR_AMT) AS EPAPR,\n",
    "DAY(LAST_DAY(TO_DATE(EARNED_MONTH || '01', 'YYYYMMDD'))) / \n",
    "IFF(MOD(SUBSTR(EARNED_MONTH, 1, 4), 4) = 0 AND (MOD(SUBSTR(EARNED_MONTH, 1, 4), 100) != 0 OR MOD(SUBSTR(EARNED_MONTH, 1, 4), 400) = 0), 366, 365)\n",
    "AS EE                                              \n",
    "FROM \"DSC_PLBI_DB\".\"APP_AUTO_PRD\".\"AUTO_OPERATIONAL_LOSS\" AS AUTO_OP_LOSS\n",
    "JOIN USER_DB.AD1_PA08042.FULL_UW_PYTHON AS UW_AUTO\n",
    "ON CAST(AUTO_OP_LOSS.POL_ID AS VARCHAR) = CAST(UW_AUTO.POL_ID AS VARCHAR)\n",
    "WHERE COV_TYPE_ABBR != 'PUP'\n",
    "AND RISK_ST_ABBR IN \n",
    "('CO', 'MS', 'WI', 'UT', 'KY', 'MD', 'IA', 'LA', 'MN', 'NE', 'ID', 'WV', 'VT', 'WY', 'OK', 'SD')\n",
    "AND EARNED_MONTH >= '202410' \n",
    "GROUP BY UW_AUTO.POL_ID, EARNED_MONTH \n",
    "ORDER BY UW_AUTO.POL_ID, EARNED_MONTH  \n",
    "\"\"\"\n",
    "\n",
    "# Buckets Dirty/Dirty and Dirty/Clean policies into the Dirty/Dirty bucket\n",
    "cleanup_query = \"\"\"\n",
    "UPDATE USER_DB.AD1_PA08042.DATA_JULY\n",
    "SET DERIVED_YES_NO_FLAG = 'Yes Acc/Viol/Comp'\n",
    "WHERE CLEAN_DIRTY_CD = 'D'\n",
    "\"\"\""
   ]
  },
  {
   "cell_type": "code",
   "execution_count": 7,
   "id": "efd0188f-de26-47ec-a593-7573531d2295",
   "metadata": {},
   "outputs": [
    {
     "name": "stdout",
     "output_type": "stream",
     "text": [
      "Done\n"
     ]
    }
   ],
   "source": [
    "# Writes completed dashboard table to Snowflake based on the queries above\n",
    "cs = ctx.cursor()\n",
    "try:\n",
    "    cs.execute(july_query)\n",
    "    cs.execute(october_query)\n",
    "    cs.execute(cleanup_query)\n",
    "finally:\n",
    "    cs.close()\n",
    "ctx.close()\n",
    "print('Done')"
   ]
  },
  {
   "cell_type": "code",
   "execution_count": 8,
   "id": "a530b6cd-e231-4e4e-bd3c-5c700105f322",
   "metadata": {},
   "outputs": [
    {
     "data": {
      "text/plain": [
       "RISK_ST_ABBR\n",
       "AZ    12881\n",
       "IN     5174\n",
       "MO     4832\n",
       "CO     2956\n",
       "TN     2822\n",
       "MS     1205\n",
       "WI     1007\n",
       "UT      933\n",
       "KY      666\n",
       "MD      531\n",
       "IA      465\n",
       "LA      411\n",
       "MN      355\n",
       "NE      309\n",
       "ID      299\n",
       "WV      256\n",
       "VT      192\n",
       "WY       70\n",
       "OK       63\n",
       "SD       28\n",
       "Name: count, dtype: int64"
      ]
     },
     "execution_count": 8,
     "metadata": {},
     "output_type": "execute_result"
    }
   ],
   "source": [
    "full_data['RISK_ST_ABBR'].value_counts()"
   ]
  }
 ],
 "metadata": {
  "kernelspec": {
   "display_name": "Python 3 (ipykernel)",
   "language": "python",
   "name": "python3"
  },
  "language_info": {
   "codemirror_mode": {
    "name": "ipython",
    "version": 3
   },
   "file_extension": ".py",
   "mimetype": "text/x-python",
   "name": "python",
   "nbconvert_exporter": "python",
   "pygments_lexer": "ipython3",
   "version": "3.9.12"
  }
 },
 "nbformat": 4,
 "nbformat_minor": 5
}
